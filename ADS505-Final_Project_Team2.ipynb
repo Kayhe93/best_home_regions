{
 "cells": [
  {
   "cell_type": "markdown",
   "id": "ab713229",
   "metadata": {},
   "source": [
    "# ADS 505 Final Project"
   ]
  },
  {
   "cell_type": "markdown",
   "id": "fe2d6d82",
   "metadata": {},
   "source": [
    "## Best Home Regions"
   ]
  },
  {
   "cell_type": "markdown",
   "id": "8500c22b",
   "metadata": {},
   "source": [
    "### Claire Bentzen, Jiaqi He, Sultan Mahmud Rahat"
   ]
  },
  {
   "cell_type": "markdown",
   "id": "28b5ea4b",
   "metadata": {},
   "source": [
    "## 1. Data Preprocessing"
   ]
  },
  {
   "cell_type": "code",
   "execution_count": 56,
   "id": "2880f16e",
   "metadata": {},
   "outputs": [],
   "source": [
    "import pandas as pd\n",
    "import numpy as np\n",
    "import matplotlib.pyplot as plt\n",
    "%matplotlib inline\n",
    "\n",
    "from sklearn.preprocessing import MinMaxScaler\n",
    "from sklearn.model_selection import train_test_split\n",
    "\n",
    "from sklearn.linear_model import LinearRegression\n",
    "from sklearn.metrics import r2_score\n",
    "\n",
    "from sklearn.metrics import accuracy_score\n",
    "from sklearn.neighbors import NearestNeighbors, KNeighborsClassifier\n",
    "\n",
    "from sklearn.ensemble import RandomForestRegressor\n",
    "\n",
    "import seaborn as sns\n",
    "\n",
    "from sklearn.decomposition import PCA\n",
    "\n",
    "from dmba import regressionSummary"
   ]
  },
  {
   "cell_type": "code",
   "execution_count": 2,
   "id": "c0d3608f",
   "metadata": {},
   "outputs": [
    {
     "data": {
      "text/html": [
       "<div>\n",
       "<style scoped>\n",
       "    .dataframe tbody tr th:only-of-type {\n",
       "        vertical-align: middle;\n",
       "    }\n",
       "\n",
       "    .dataframe tbody tr th {\n",
       "        vertical-align: top;\n",
       "    }\n",
       "\n",
       "    .dataframe thead th {\n",
       "        text-align: right;\n",
       "    }\n",
       "</style>\n",
       "<table border=\"1\" class=\"dataframe\">\n",
       "  <thead>\n",
       "    <tr style=\"text-align: right;\">\n",
       "      <th></th>\n",
       "      <th>MortgageRateConventionalFixed_2011-06</th>\n",
       "      <th>MortgageRateConventionalFixed_2011-07</th>\n",
       "      <th>MortgageRateConventionalFixed_2011-08</th>\n",
       "      <th>MortgageRateConventionalFixed_2011-09</th>\n",
       "      <th>MortgageRateConventionalFixed_2011-10</th>\n",
       "      <th>MortgageRateConventionalFixed_2011-11</th>\n",
       "      <th>MortgageRateConventionalFixed_2011-12</th>\n",
       "      <th>MortgageRateConventionalFixed_2012-01</th>\n",
       "      <th>MortgageRateConventionalFixed_2012-02</th>\n",
       "      <th>MortgageRateConventionalFixed_2012-03</th>\n",
       "      <th>...</th>\n",
       "      <th>PriceToRentRatio_2017-08</th>\n",
       "      <th>PriceToRentRatio_2017-09</th>\n",
       "      <th>RegionID</th>\n",
       "      <th>RegionName</th>\n",
       "      <th>City</th>\n",
       "      <th>State</th>\n",
       "      <th>Metro</th>\n",
       "      <th>CountyName</th>\n",
       "      <th>SizeRank</th>\n",
       "      <th>New_Composite_Score</th>\n",
       "    </tr>\n",
       "  </thead>\n",
       "  <tbody>\n",
       "    <tr>\n",
       "      <th>0</th>\n",
       "      <td>4.374217</td>\n",
       "      <td>4.460115</td>\n",
       "      <td>4.127827</td>\n",
       "      <td>3.963005</td>\n",
       "      <td>4.035497</td>\n",
       "      <td>3.941695</td>\n",
       "      <td>3.85004</td>\n",
       "      <td>3.815944</td>\n",
       "      <td>3.808312</td>\n",
       "      <td>3.931269</td>\n",
       "      <td>...</td>\n",
       "      <td>10.64</td>\n",
       "      <td>10.72</td>\n",
       "      <td>58196</td>\n",
       "      <td>1001</td>\n",
       "      <td>Agawam</td>\n",
       "      <td>MA</td>\n",
       "      <td>Springfield</td>\n",
       "      <td>Hampden</td>\n",
       "      <td>5770</td>\n",
       "      <td>0.243539</td>\n",
       "    </tr>\n",
       "    <tr>\n",
       "      <th>1</th>\n",
       "      <td>4.374217</td>\n",
       "      <td>4.460115</td>\n",
       "      <td>4.127827</td>\n",
       "      <td>3.963005</td>\n",
       "      <td>4.035497</td>\n",
       "      <td>3.941695</td>\n",
       "      <td>3.85004</td>\n",
       "      <td>3.815944</td>\n",
       "      <td>3.808312</td>\n",
       "      <td>3.931269</td>\n",
       "      <td>...</td>\n",
       "      <td>12.94</td>\n",
       "      <td>13.15</td>\n",
       "      <td>58197</td>\n",
       "      <td>1002</td>\n",
       "      <td>Amherst</td>\n",
       "      <td>MA</td>\n",
       "      <td>Springfield</td>\n",
       "      <td>Hampshire</td>\n",
       "      <td>4112</td>\n",
       "      <td>0.317422</td>\n",
       "    </tr>\n",
       "    <tr>\n",
       "      <th>2</th>\n",
       "      <td>4.374217</td>\n",
       "      <td>4.460115</td>\n",
       "      <td>4.127827</td>\n",
       "      <td>3.963005</td>\n",
       "      <td>4.035497</td>\n",
       "      <td>3.941695</td>\n",
       "      <td>3.85004</td>\n",
       "      <td>3.815944</td>\n",
       "      <td>3.808312</td>\n",
       "      <td>3.931269</td>\n",
       "      <td>...</td>\n",
       "      <td>11.36</td>\n",
       "      <td>11.50</td>\n",
       "      <td>58200</td>\n",
       "      <td>1005</td>\n",
       "      <td>Town of Barre</td>\n",
       "      <td>MA</td>\n",
       "      <td>Worcester</td>\n",
       "      <td>Worcester</td>\n",
       "      <td>11428</td>\n",
       "      <td>0.267254</td>\n",
       "    </tr>\n",
       "    <tr>\n",
       "      <th>3</th>\n",
       "      <td>4.374217</td>\n",
       "      <td>4.460115</td>\n",
       "      <td>4.127827</td>\n",
       "      <td>3.963005</td>\n",
       "      <td>4.035497</td>\n",
       "      <td>3.941695</td>\n",
       "      <td>3.85004</td>\n",
       "      <td>3.815944</td>\n",
       "      <td>3.808312</td>\n",
       "      <td>3.931269</td>\n",
       "      <td>...</td>\n",
       "      <td>12.94</td>\n",
       "      <td>12.77</td>\n",
       "      <td>58201</td>\n",
       "      <td>1007</td>\n",
       "      <td>Town of Belchertown</td>\n",
       "      <td>MA</td>\n",
       "      <td>Springfield</td>\n",
       "      <td>Hampshire</td>\n",
       "      <td>6855</td>\n",
       "      <td>0.305868</td>\n",
       "    </tr>\n",
       "    <tr>\n",
       "      <th>4</th>\n",
       "      <td>4.374217</td>\n",
       "      <td>4.460115</td>\n",
       "      <td>4.127827</td>\n",
       "      <td>3.963005</td>\n",
       "      <td>4.035497</td>\n",
       "      <td>3.941695</td>\n",
       "      <td>3.85004</td>\n",
       "      <td>3.815944</td>\n",
       "      <td>3.808312</td>\n",
       "      <td>3.931269</td>\n",
       "      <td>...</td>\n",
       "      <td>11.98</td>\n",
       "      <td>11.97</td>\n",
       "      <td>58202</td>\n",
       "      <td>1008</td>\n",
       "      <td>Blandford</td>\n",
       "      <td>MA</td>\n",
       "      <td>Springfield</td>\n",
       "      <td>Hampden</td>\n",
       "      <td>15088</td>\n",
       "      <td>0.281545</td>\n",
       "    </tr>\n",
       "  </tbody>\n",
       "</table>\n",
       "<p>5 rows × 168 columns</p>\n",
       "</div>"
      ],
      "text/plain": [
       "   MortgageRateConventionalFixed_2011-06  \\\n",
       "0                               4.374217   \n",
       "1                               4.374217   \n",
       "2                               4.374217   \n",
       "3                               4.374217   \n",
       "4                               4.374217   \n",
       "\n",
       "   MortgageRateConventionalFixed_2011-07  \\\n",
       "0                               4.460115   \n",
       "1                               4.460115   \n",
       "2                               4.460115   \n",
       "3                               4.460115   \n",
       "4                               4.460115   \n",
       "\n",
       "   MortgageRateConventionalFixed_2011-08  \\\n",
       "0                               4.127827   \n",
       "1                               4.127827   \n",
       "2                               4.127827   \n",
       "3                               4.127827   \n",
       "4                               4.127827   \n",
       "\n",
       "   MortgageRateConventionalFixed_2011-09  \\\n",
       "0                               3.963005   \n",
       "1                               3.963005   \n",
       "2                               3.963005   \n",
       "3                               3.963005   \n",
       "4                               3.963005   \n",
       "\n",
       "   MortgageRateConventionalFixed_2011-10  \\\n",
       "0                               4.035497   \n",
       "1                               4.035497   \n",
       "2                               4.035497   \n",
       "3                               4.035497   \n",
       "4                               4.035497   \n",
       "\n",
       "   MortgageRateConventionalFixed_2011-11  \\\n",
       "0                               3.941695   \n",
       "1                               3.941695   \n",
       "2                               3.941695   \n",
       "3                               3.941695   \n",
       "4                               3.941695   \n",
       "\n",
       "   MortgageRateConventionalFixed_2011-12  \\\n",
       "0                                3.85004   \n",
       "1                                3.85004   \n",
       "2                                3.85004   \n",
       "3                                3.85004   \n",
       "4                                3.85004   \n",
       "\n",
       "   MortgageRateConventionalFixed_2012-01  \\\n",
       "0                               3.815944   \n",
       "1                               3.815944   \n",
       "2                               3.815944   \n",
       "3                               3.815944   \n",
       "4                               3.815944   \n",
       "\n",
       "   MortgageRateConventionalFixed_2012-02  \\\n",
       "0                               3.808312   \n",
       "1                               3.808312   \n",
       "2                               3.808312   \n",
       "3                               3.808312   \n",
       "4                               3.808312   \n",
       "\n",
       "   MortgageRateConventionalFixed_2012-03  ...  PriceToRentRatio_2017-08  \\\n",
       "0                               3.931269  ...                     10.64   \n",
       "1                               3.931269  ...                     12.94   \n",
       "2                               3.931269  ...                     11.36   \n",
       "3                               3.931269  ...                     12.94   \n",
       "4                               3.931269  ...                     11.98   \n",
       "\n",
       "   PriceToRentRatio_2017-09  RegionID  RegionName                 City  State  \\\n",
       "0                     10.72     58196        1001               Agawam     MA   \n",
       "1                     13.15     58197        1002              Amherst     MA   \n",
       "2                     11.50     58200        1005        Town of Barre     MA   \n",
       "3                     12.77     58201        1007  Town of Belchertown     MA   \n",
       "4                     11.97     58202        1008            Blandford     MA   \n",
       "\n",
       "         Metro  CountyName  SizeRank  New_Composite_Score  \n",
       "0  Springfield     Hampden      5770             0.243539  \n",
       "1  Springfield   Hampshire      4112             0.317422  \n",
       "2    Worcester   Worcester     11428             0.267254  \n",
       "3  Springfield   Hampshire      6855             0.305868  \n",
       "4  Springfield     Hampden     15088             0.281545  \n",
       "\n",
       "[5 rows x 168 columns]"
      ]
     },
     "execution_count": 2,
     "metadata": {},
     "output_type": "execute_result"
    }
   ],
   "source": [
    "# read in data\n",
    "homes = pd.read_csv('final_dataset.csv')\n",
    "homes.head()"
   ]
  },
  {
   "cell_type": "code",
   "execution_count": 3,
   "id": "1b21f747",
   "metadata": {},
   "outputs": [
    {
     "data": {
      "text/plain": [
       "(14233, 168)"
      ]
     },
     "execution_count": 3,
     "metadata": {},
     "output_type": "execute_result"
    }
   ],
   "source": [
    "# identify number of rows and columns\n",
    "homes.shape"
   ]
  },
  {
   "cell_type": "markdown",
   "id": "cd1c87bf",
   "metadata": {},
   "source": [
    "#### Remove Columns used for Composite Score column"
   ]
  },
  {
   "cell_type": "code",
   "execution_count": 4,
   "id": "81788727",
   "metadata": {},
   "outputs": [],
   "source": [
    "# drop most recent mortgage and price to rent columns\n",
    "homes.drop(columns=['PriceToRentRatio_2017-09', 'MortgageRateConventionalFixed_2017-09'], inplace=True)"
   ]
  },
  {
   "cell_type": "markdown",
   "id": "37f2b112",
   "metadata": {},
   "source": [
    "#### Check for Duplicate Records"
   ]
  },
  {
   "cell_type": "code",
   "execution_count": 5,
   "id": "e732ac39",
   "metadata": {},
   "outputs": [
    {
     "data": {
      "text/plain": [
       "(0, 166)"
      ]
     },
     "execution_count": 5,
     "metadata": {},
     "output_type": "execute_result"
    }
   ],
   "source": [
    "# check for duplicates\n",
    "duplicate_homes = homes[homes.duplicated()]\n",
    "duplicate_homes.shape"
   ]
  },
  {
   "cell_type": "markdown",
   "id": "af0e26a2",
   "metadata": {},
   "source": [
    "There are no duplicate records in the dataset."
   ]
  },
  {
   "cell_type": "markdown",
   "id": "2fbb0815",
   "metadata": {},
   "source": [
    "#### Check for Missing Values"
   ]
  },
  {
   "cell_type": "code",
   "execution_count": 6,
   "id": "3f2850b0",
   "metadata": {},
   "outputs": [
    {
     "name": "stdout",
     "output_type": "stream",
     "text": [
      "Total percentage of missing data: 1.65%\n"
     ]
    }
   ],
   "source": [
    "# check for overall percentage of missing values\n",
    "missing_values = homes.isnull().sum().sum()\n",
    "percent_missing = (missing_values / homes.size) * 100\n",
    "print(\"Total percentage of missing data: {:.2f}%\".format(percent_missing))"
   ]
  },
  {
   "cell_type": "code",
   "execution_count": 7,
   "id": "0e73651c",
   "metadata": {},
   "outputs": [],
   "source": [
    "pd.set_option('display.max_rows', None)\n",
    "\n",
    "# check which columns missing values reside in\n",
    "missing_homes = homes.isnull().sum()\n",
    "columns_missing_values = missing_homes[missing_homes > 0]\n",
    "\n",
    "# turn missing values series into dataframe\n",
    "columns_missing_values_df = columns_missing_values.to_frame()\n",
    "columns_missing_values_df.columns = ['Count']"
   ]
  },
  {
   "cell_type": "code",
   "execution_count": 8,
   "id": "b2af9cb2",
   "metadata": {},
   "outputs": [],
   "source": [
    "# missing values as percentages\n",
    "columns_missing_values_percents = (columns_missing_values / homes.size) * 100\n",
    "\n",
    "# turn missing values percentage series into dataframe\n",
    "columns_missing_values_percents_df = columns_missing_values_percents.to_frame()\n",
    "columns_missing_values_percents_df.columns = ['%']"
   ]
  },
  {
   "cell_type": "code",
   "execution_count": 9,
   "id": "994267d5",
   "metadata": {},
   "outputs": [
    {
     "data": {
      "text/html": [
       "<div>\n",
       "<style scoped>\n",
       "    .dataframe tbody tr th:only-of-type {\n",
       "        vertical-align: middle;\n",
       "    }\n",
       "\n",
       "    .dataframe tbody tr th {\n",
       "        vertical-align: top;\n",
       "    }\n",
       "\n",
       "    .dataframe thead th {\n",
       "        text-align: right;\n",
       "    }\n",
       "</style>\n",
       "<table border=\"1\" class=\"dataframe\">\n",
       "  <thead>\n",
       "    <tr style=\"text-align: right;\">\n",
       "      <th></th>\n",
       "      <th>Count</th>\n",
       "      <th>%</th>\n",
       "    </tr>\n",
       "  </thead>\n",
       "  <tbody>\n",
       "    <tr>\n",
       "      <th>PriceToRentRatio_2010-10</th>\n",
       "      <td>994</td>\n",
       "      <td>0.042071</td>\n",
       "    </tr>\n",
       "    <tr>\n",
       "      <th>PriceToRentRatio_2010-11</th>\n",
       "      <td>1184</td>\n",
       "      <td>0.050113</td>\n",
       "    </tr>\n",
       "    <tr>\n",
       "      <th>PriceToRentRatio_2010-12</th>\n",
       "      <td>906</td>\n",
       "      <td>0.038346</td>\n",
       "    </tr>\n",
       "    <tr>\n",
       "      <th>PriceToRentRatio_2011-01</th>\n",
       "      <td>691</td>\n",
       "      <td>0.029246</td>\n",
       "    </tr>\n",
       "    <tr>\n",
       "      <th>PriceToRentRatio_2011-02</th>\n",
       "      <td>651</td>\n",
       "      <td>0.027553</td>\n",
       "    </tr>\n",
       "    <tr>\n",
       "      <th>PriceToRentRatio_2011-03</th>\n",
       "      <td>724</td>\n",
       "      <td>0.030643</td>\n",
       "    </tr>\n",
       "    <tr>\n",
       "      <th>PriceToRentRatio_2011-04</th>\n",
       "      <td>635</td>\n",
       "      <td>0.026876</td>\n",
       "    </tr>\n",
       "    <tr>\n",
       "      <th>PriceToRentRatio_2011-05</th>\n",
       "      <td>644</td>\n",
       "      <td>0.027257</td>\n",
       "    </tr>\n",
       "    <tr>\n",
       "      <th>PriceToRentRatio_2011-06</th>\n",
       "      <td>693</td>\n",
       "      <td>0.029331</td>\n",
       "    </tr>\n",
       "    <tr>\n",
       "      <th>PriceToRentRatio_2011-07</th>\n",
       "      <td>632</td>\n",
       "      <td>0.026749</td>\n",
       "    </tr>\n",
       "    <tr>\n",
       "      <th>PriceToRentRatio_2011-08</th>\n",
       "      <td>608</td>\n",
       "      <td>0.025734</td>\n",
       "    </tr>\n",
       "    <tr>\n",
       "      <th>PriceToRentRatio_2011-09</th>\n",
       "      <td>609</td>\n",
       "      <td>0.025776</td>\n",
       "    </tr>\n",
       "    <tr>\n",
       "      <th>PriceToRentRatio_2011-10</th>\n",
       "      <td>607</td>\n",
       "      <td>0.025691</td>\n",
       "    </tr>\n",
       "    <tr>\n",
       "      <th>PriceToRentRatio_2011-11</th>\n",
       "      <td>645</td>\n",
       "      <td>0.027300</td>\n",
       "    </tr>\n",
       "    <tr>\n",
       "      <th>PriceToRentRatio_2011-12</th>\n",
       "      <td>683</td>\n",
       "      <td>0.028908</td>\n",
       "    </tr>\n",
       "    <tr>\n",
       "      <th>PriceToRentRatio_2012-01</th>\n",
       "      <td>633</td>\n",
       "      <td>0.026792</td>\n",
       "    </tr>\n",
       "    <tr>\n",
       "      <th>PriceToRentRatio_2012-02</th>\n",
       "      <td>591</td>\n",
       "      <td>0.025014</td>\n",
       "    </tr>\n",
       "    <tr>\n",
       "      <th>PriceToRentRatio_2012-03</th>\n",
       "      <td>617</td>\n",
       "      <td>0.026114</td>\n",
       "    </tr>\n",
       "    <tr>\n",
       "      <th>PriceToRentRatio_2012-04</th>\n",
       "      <td>617</td>\n",
       "      <td>0.026114</td>\n",
       "    </tr>\n",
       "    <tr>\n",
       "      <th>PriceToRentRatio_2012-05</th>\n",
       "      <td>632</td>\n",
       "      <td>0.026749</td>\n",
       "    </tr>\n",
       "    <tr>\n",
       "      <th>PriceToRentRatio_2012-06</th>\n",
       "      <td>679</td>\n",
       "      <td>0.028739</td>\n",
       "    </tr>\n",
       "    <tr>\n",
       "      <th>PriceToRentRatio_2012-07</th>\n",
       "      <td>664</td>\n",
       "      <td>0.028104</td>\n",
       "    </tr>\n",
       "    <tr>\n",
       "      <th>PriceToRentRatio_2012-08</th>\n",
       "      <td>701</td>\n",
       "      <td>0.029670</td>\n",
       "    </tr>\n",
       "    <tr>\n",
       "      <th>PriceToRentRatio_2012-09</th>\n",
       "      <td>636</td>\n",
       "      <td>0.026919</td>\n",
       "    </tr>\n",
       "    <tr>\n",
       "      <th>PriceToRentRatio_2012-10</th>\n",
       "      <td>670</td>\n",
       "      <td>0.028358</td>\n",
       "    </tr>\n",
       "    <tr>\n",
       "      <th>PriceToRentRatio_2012-11</th>\n",
       "      <td>602</td>\n",
       "      <td>0.025480</td>\n",
       "    </tr>\n",
       "    <tr>\n",
       "      <th>PriceToRentRatio_2012-12</th>\n",
       "      <td>619</td>\n",
       "      <td>0.026199</td>\n",
       "    </tr>\n",
       "    <tr>\n",
       "      <th>PriceToRentRatio_2013-01</th>\n",
       "      <td>628</td>\n",
       "      <td>0.026580</td>\n",
       "    </tr>\n",
       "    <tr>\n",
       "      <th>PriceToRentRatio_2013-02</th>\n",
       "      <td>608</td>\n",
       "      <td>0.025734</td>\n",
       "    </tr>\n",
       "    <tr>\n",
       "      <th>PriceToRentRatio_2013-03</th>\n",
       "      <td>641</td>\n",
       "      <td>0.027130</td>\n",
       "    </tr>\n",
       "    <tr>\n",
       "      <th>PriceToRentRatio_2013-04</th>\n",
       "      <td>579</td>\n",
       "      <td>0.024506</td>\n",
       "    </tr>\n",
       "    <tr>\n",
       "      <th>PriceToRentRatio_2013-05</th>\n",
       "      <td>529</td>\n",
       "      <td>0.022390</td>\n",
       "    </tr>\n",
       "    <tr>\n",
       "      <th>PriceToRentRatio_2013-06</th>\n",
       "      <td>504</td>\n",
       "      <td>0.021332</td>\n",
       "    </tr>\n",
       "    <tr>\n",
       "      <th>PriceToRentRatio_2013-07</th>\n",
       "      <td>505</td>\n",
       "      <td>0.021374</td>\n",
       "    </tr>\n",
       "    <tr>\n",
       "      <th>PriceToRentRatio_2013-08</th>\n",
       "      <td>446</td>\n",
       "      <td>0.018877</td>\n",
       "    </tr>\n",
       "    <tr>\n",
       "      <th>PriceToRentRatio_2013-09</th>\n",
       "      <td>446</td>\n",
       "      <td>0.018877</td>\n",
       "    </tr>\n",
       "    <tr>\n",
       "      <th>PriceToRentRatio_2013-10</th>\n",
       "      <td>436</td>\n",
       "      <td>0.018454</td>\n",
       "    </tr>\n",
       "    <tr>\n",
       "      <th>PriceToRentRatio_2013-11</th>\n",
       "      <td>435</td>\n",
       "      <td>0.018411</td>\n",
       "    </tr>\n",
       "    <tr>\n",
       "      <th>PriceToRentRatio_2013-12</th>\n",
       "      <td>472</td>\n",
       "      <td>0.019977</td>\n",
       "    </tr>\n",
       "    <tr>\n",
       "      <th>PriceToRentRatio_2014-01</th>\n",
       "      <td>471</td>\n",
       "      <td>0.019935</td>\n",
       "    </tr>\n",
       "    <tr>\n",
       "      <th>PriceToRentRatio_2014-02</th>\n",
       "      <td>457</td>\n",
       "      <td>0.019342</td>\n",
       "    </tr>\n",
       "    <tr>\n",
       "      <th>PriceToRentRatio_2014-03</th>\n",
       "      <td>454</td>\n",
       "      <td>0.019215</td>\n",
       "    </tr>\n",
       "    <tr>\n",
       "      <th>PriceToRentRatio_2014-04</th>\n",
       "      <td>437</td>\n",
       "      <td>0.018496</td>\n",
       "    </tr>\n",
       "    <tr>\n",
       "      <th>PriceToRentRatio_2014-05</th>\n",
       "      <td>467</td>\n",
       "      <td>0.019766</td>\n",
       "    </tr>\n",
       "    <tr>\n",
       "      <th>PriceToRentRatio_2014-06</th>\n",
       "      <td>404</td>\n",
       "      <td>0.017099</td>\n",
       "    </tr>\n",
       "    <tr>\n",
       "      <th>PriceToRentRatio_2014-07</th>\n",
       "      <td>406</td>\n",
       "      <td>0.017184</td>\n",
       "    </tr>\n",
       "    <tr>\n",
       "      <th>PriceToRentRatio_2014-08</th>\n",
       "      <td>404</td>\n",
       "      <td>0.017099</td>\n",
       "    </tr>\n",
       "    <tr>\n",
       "      <th>PriceToRentRatio_2014-09</th>\n",
       "      <td>404</td>\n",
       "      <td>0.017099</td>\n",
       "    </tr>\n",
       "    <tr>\n",
       "      <th>PriceToRentRatio_2014-10</th>\n",
       "      <td>404</td>\n",
       "      <td>0.017099</td>\n",
       "    </tr>\n",
       "    <tr>\n",
       "      <th>PriceToRentRatio_2014-11</th>\n",
       "      <td>404</td>\n",
       "      <td>0.017099</td>\n",
       "    </tr>\n",
       "    <tr>\n",
       "      <th>PriceToRentRatio_2014-12</th>\n",
       "      <td>406</td>\n",
       "      <td>0.017184</td>\n",
       "    </tr>\n",
       "    <tr>\n",
       "      <th>PriceToRentRatio_2015-01</th>\n",
       "      <td>414</td>\n",
       "      <td>0.017522</td>\n",
       "    </tr>\n",
       "    <tr>\n",
       "      <th>PriceToRentRatio_2015-02</th>\n",
       "      <td>401</td>\n",
       "      <td>0.016972</td>\n",
       "    </tr>\n",
       "    <tr>\n",
       "      <th>PriceToRentRatio_2015-03</th>\n",
       "      <td>401</td>\n",
       "      <td>0.016972</td>\n",
       "    </tr>\n",
       "    <tr>\n",
       "      <th>PriceToRentRatio_2015-04</th>\n",
       "      <td>413</td>\n",
       "      <td>0.017480</td>\n",
       "    </tr>\n",
       "    <tr>\n",
       "      <th>PriceToRentRatio_2015-05</th>\n",
       "      <td>401</td>\n",
       "      <td>0.016972</td>\n",
       "    </tr>\n",
       "    <tr>\n",
       "      <th>PriceToRentRatio_2015-06</th>\n",
       "      <td>402</td>\n",
       "      <td>0.017015</td>\n",
       "    </tr>\n",
       "    <tr>\n",
       "      <th>PriceToRentRatio_2015-07</th>\n",
       "      <td>435</td>\n",
       "      <td>0.018411</td>\n",
       "    </tr>\n",
       "    <tr>\n",
       "      <th>PriceToRentRatio_2015-08</th>\n",
       "      <td>397</td>\n",
       "      <td>0.016803</td>\n",
       "    </tr>\n",
       "    <tr>\n",
       "      <th>PriceToRentRatio_2015-09</th>\n",
       "      <td>397</td>\n",
       "      <td>0.016803</td>\n",
       "    </tr>\n",
       "    <tr>\n",
       "      <th>PriceToRentRatio_2015-10</th>\n",
       "      <td>396</td>\n",
       "      <td>0.016761</td>\n",
       "    </tr>\n",
       "    <tr>\n",
       "      <th>PriceToRentRatio_2015-11</th>\n",
       "      <td>391</td>\n",
       "      <td>0.016549</td>\n",
       "    </tr>\n",
       "    <tr>\n",
       "      <th>PriceToRentRatio_2015-12</th>\n",
       "      <td>383</td>\n",
       "      <td>0.016210</td>\n",
       "    </tr>\n",
       "    <tr>\n",
       "      <th>PriceToRentRatio_2016-01</th>\n",
       "      <td>383</td>\n",
       "      <td>0.016210</td>\n",
       "    </tr>\n",
       "    <tr>\n",
       "      <th>PriceToRentRatio_2016-02</th>\n",
       "      <td>413</td>\n",
       "      <td>0.017480</td>\n",
       "    </tr>\n",
       "    <tr>\n",
       "      <th>PriceToRentRatio_2016-03</th>\n",
       "      <td>396</td>\n",
       "      <td>0.016761</td>\n",
       "    </tr>\n",
       "    <tr>\n",
       "      <th>PriceToRentRatio_2016-04</th>\n",
       "      <td>389</td>\n",
       "      <td>0.016464</td>\n",
       "    </tr>\n",
       "    <tr>\n",
       "      <th>PriceToRentRatio_2016-05</th>\n",
       "      <td>387</td>\n",
       "      <td>0.016380</td>\n",
       "    </tr>\n",
       "    <tr>\n",
       "      <th>PriceToRentRatio_2016-06</th>\n",
       "      <td>272</td>\n",
       "      <td>0.011512</td>\n",
       "    </tr>\n",
       "    <tr>\n",
       "      <th>PriceToRentRatio_2016-07</th>\n",
       "      <td>218</td>\n",
       "      <td>0.009227</td>\n",
       "    </tr>\n",
       "    <tr>\n",
       "      <th>PriceToRentRatio_2016-08</th>\n",
       "      <td>255</td>\n",
       "      <td>0.010793</td>\n",
       "    </tr>\n",
       "    <tr>\n",
       "      <th>PriceToRentRatio_2016-09</th>\n",
       "      <td>217</td>\n",
       "      <td>0.009184</td>\n",
       "    </tr>\n",
       "    <tr>\n",
       "      <th>PriceToRentRatio_2016-10</th>\n",
       "      <td>217</td>\n",
       "      <td>0.009184</td>\n",
       "    </tr>\n",
       "    <tr>\n",
       "      <th>PriceToRentRatio_2016-11</th>\n",
       "      <td>217</td>\n",
       "      <td>0.009184</td>\n",
       "    </tr>\n",
       "    <tr>\n",
       "      <th>PriceToRentRatio_2016-12</th>\n",
       "      <td>260</td>\n",
       "      <td>0.011004</td>\n",
       "    </tr>\n",
       "    <tr>\n",
       "      <th>PriceToRentRatio_2017-01</th>\n",
       "      <td>216</td>\n",
       "      <td>0.009142</td>\n",
       "    </tr>\n",
       "    <tr>\n",
       "      <th>PriceToRentRatio_2017-02</th>\n",
       "      <td>214</td>\n",
       "      <td>0.009058</td>\n",
       "    </tr>\n",
       "    <tr>\n",
       "      <th>PriceToRentRatio_2017-03</th>\n",
       "      <td>213</td>\n",
       "      <td>0.009015</td>\n",
       "    </tr>\n",
       "    <tr>\n",
       "      <th>PriceToRentRatio_2017-04</th>\n",
       "      <td>38</td>\n",
       "      <td>0.001608</td>\n",
       "    </tr>\n",
       "  </tbody>\n",
       "</table>\n",
       "</div>"
      ],
      "text/plain": [
       "                          Count         %\n",
       "PriceToRentRatio_2010-10    994  0.042071\n",
       "PriceToRentRatio_2010-11   1184  0.050113\n",
       "PriceToRentRatio_2010-12    906  0.038346\n",
       "PriceToRentRatio_2011-01    691  0.029246\n",
       "PriceToRentRatio_2011-02    651  0.027553\n",
       "PriceToRentRatio_2011-03    724  0.030643\n",
       "PriceToRentRatio_2011-04    635  0.026876\n",
       "PriceToRentRatio_2011-05    644  0.027257\n",
       "PriceToRentRatio_2011-06    693  0.029331\n",
       "PriceToRentRatio_2011-07    632  0.026749\n",
       "PriceToRentRatio_2011-08    608  0.025734\n",
       "PriceToRentRatio_2011-09    609  0.025776\n",
       "PriceToRentRatio_2011-10    607  0.025691\n",
       "PriceToRentRatio_2011-11    645  0.027300\n",
       "PriceToRentRatio_2011-12    683  0.028908\n",
       "PriceToRentRatio_2012-01    633  0.026792\n",
       "PriceToRentRatio_2012-02    591  0.025014\n",
       "PriceToRentRatio_2012-03    617  0.026114\n",
       "PriceToRentRatio_2012-04    617  0.026114\n",
       "PriceToRentRatio_2012-05    632  0.026749\n",
       "PriceToRentRatio_2012-06    679  0.028739\n",
       "PriceToRentRatio_2012-07    664  0.028104\n",
       "PriceToRentRatio_2012-08    701  0.029670\n",
       "PriceToRentRatio_2012-09    636  0.026919\n",
       "PriceToRentRatio_2012-10    670  0.028358\n",
       "PriceToRentRatio_2012-11    602  0.025480\n",
       "PriceToRentRatio_2012-12    619  0.026199\n",
       "PriceToRentRatio_2013-01    628  0.026580\n",
       "PriceToRentRatio_2013-02    608  0.025734\n",
       "PriceToRentRatio_2013-03    641  0.027130\n",
       "PriceToRentRatio_2013-04    579  0.024506\n",
       "PriceToRentRatio_2013-05    529  0.022390\n",
       "PriceToRentRatio_2013-06    504  0.021332\n",
       "PriceToRentRatio_2013-07    505  0.021374\n",
       "PriceToRentRatio_2013-08    446  0.018877\n",
       "PriceToRentRatio_2013-09    446  0.018877\n",
       "PriceToRentRatio_2013-10    436  0.018454\n",
       "PriceToRentRatio_2013-11    435  0.018411\n",
       "PriceToRentRatio_2013-12    472  0.019977\n",
       "PriceToRentRatio_2014-01    471  0.019935\n",
       "PriceToRentRatio_2014-02    457  0.019342\n",
       "PriceToRentRatio_2014-03    454  0.019215\n",
       "PriceToRentRatio_2014-04    437  0.018496\n",
       "PriceToRentRatio_2014-05    467  0.019766\n",
       "PriceToRentRatio_2014-06    404  0.017099\n",
       "PriceToRentRatio_2014-07    406  0.017184\n",
       "PriceToRentRatio_2014-08    404  0.017099\n",
       "PriceToRentRatio_2014-09    404  0.017099\n",
       "PriceToRentRatio_2014-10    404  0.017099\n",
       "PriceToRentRatio_2014-11    404  0.017099\n",
       "PriceToRentRatio_2014-12    406  0.017184\n",
       "PriceToRentRatio_2015-01    414  0.017522\n",
       "PriceToRentRatio_2015-02    401  0.016972\n",
       "PriceToRentRatio_2015-03    401  0.016972\n",
       "PriceToRentRatio_2015-04    413  0.017480\n",
       "PriceToRentRatio_2015-05    401  0.016972\n",
       "PriceToRentRatio_2015-06    402  0.017015\n",
       "PriceToRentRatio_2015-07    435  0.018411\n",
       "PriceToRentRatio_2015-08    397  0.016803\n",
       "PriceToRentRatio_2015-09    397  0.016803\n",
       "PriceToRentRatio_2015-10    396  0.016761\n",
       "PriceToRentRatio_2015-11    391  0.016549\n",
       "PriceToRentRatio_2015-12    383  0.016210\n",
       "PriceToRentRatio_2016-01    383  0.016210\n",
       "PriceToRentRatio_2016-02    413  0.017480\n",
       "PriceToRentRatio_2016-03    396  0.016761\n",
       "PriceToRentRatio_2016-04    389  0.016464\n",
       "PriceToRentRatio_2016-05    387  0.016380\n",
       "PriceToRentRatio_2016-06    272  0.011512\n",
       "PriceToRentRatio_2016-07    218  0.009227\n",
       "PriceToRentRatio_2016-08    255  0.010793\n",
       "PriceToRentRatio_2016-09    217  0.009184\n",
       "PriceToRentRatio_2016-10    217  0.009184\n",
       "PriceToRentRatio_2016-11    217  0.009184\n",
       "PriceToRentRatio_2016-12    260  0.011004\n",
       "PriceToRentRatio_2017-01    216  0.009142\n",
       "PriceToRentRatio_2017-02    214  0.009058\n",
       "PriceToRentRatio_2017-03    213  0.009015\n",
       "PriceToRentRatio_2017-04     38  0.001608"
      ]
     },
     "execution_count": 9,
     "metadata": {},
     "output_type": "execute_result"
    }
   ],
   "source": [
    "# merge dataframes to display counts against percentages\n",
    "missing = columns_missing_values_df.join(columns_missing_values_percents_df, how='inner')\n",
    "missing"
   ]
  },
  {
   "cell_type": "code",
   "execution_count": 10,
   "id": "dfa1040a",
   "metadata": {},
   "outputs": [
    {
     "data": {
      "text/plain": [
       "(12786, 166)"
      ]
     },
     "execution_count": 10,
     "metadata": {},
     "output_type": "execute_result"
    }
   ],
   "source": [
    "# drop missing values in the dataset\n",
    "homes = homes.dropna()\n",
    "homes.shape"
   ]
  },
  {
   "cell_type": "markdown",
   "id": "a0d434ca",
   "metadata": {},
   "source": [
    "Although missing values only made up 1.65% of the overall dataset, we have dropped rows that contained missing values which brought the dataset to have 12,786 remaining records."
   ]
  },
  {
   "cell_type": "markdown",
   "id": "663040b3",
   "metadata": {},
   "source": [
    "#### Select and Normalize Data"
   ]
  },
  {
   "cell_type": "code",
   "execution_count": 19,
   "id": "b1399387",
   "metadata": {},
   "outputs": [],
   "source": [
    "# convert categorical columns to type column\n",
    "categorical = ['RegionID', 'RegionName', 'City', 'State', 'Metro', 'CountyName']\n",
    "homes[categorical] = homes[categorical].astype('category')"
   ]
  },
  {
   "cell_type": "code",
   "execution_count": 20,
   "id": "3a38efc0",
   "metadata": {},
   "outputs": [],
   "source": [
    "# select feature and target columns\n",
    "feature_columns = [col for col in homes.columns if col not in categorical]\n",
    "X = homes.drop(columns='New_Composite_Score')\n",
    "\n",
    "y = homes['New_Composite_Score'].values.reshape(-1, 1)"
   ]
  },
  {
   "cell_type": "code",
   "execution_count": 21,
   "id": "860b1004",
   "metadata": {},
   "outputs": [],
   "source": [
    "# scale columns using MinMaxScaler\n",
    "scaler_X = MinMaxScaler()\n",
    "scaler_y = MinMaxScaler()\n",
    "\n",
    "# apply MinMaxScaler to X and y\n",
    "X_scaled = homes.copy()\n",
    "X_scaled[feature_columns] = scaler_X.fit_transform(X_scaled[feature_columns])\n",
    "y_scaled = scaler_y.fit_transform(y)"
   ]
  },
  {
   "cell_type": "code",
   "execution_count": 22,
   "id": "a1f5f292",
   "metadata": {},
   "outputs": [],
   "source": [
    "# drop all the mortgage columns since they are fixed and scale to 0\n",
    "X_scaled = X_scaled.iloc[:, 75:]"
   ]
  },
  {
   "cell_type": "code",
   "execution_count": 23,
   "id": "dc91ab2d",
   "metadata": {},
   "outputs": [],
   "source": [
    "# one-hot encode categorical variable\n",
    "X_scaled = pd.get_dummies(X_scaled, columns=categorical)"
   ]
  },
  {
   "cell_type": "markdown",
   "id": "680c3923",
   "metadata": {},
   "source": [
    "#### Principal Component Analysis"
   ]
  },
  {
   "cell_type": "code",
   "execution_count": 24,
   "id": "54e48aec",
   "metadata": {},
   "outputs": [
    {
     "data": {
      "text/plain": [
       "(12786, 8)"
      ]
     },
     "execution_count": 24,
     "metadata": {},
     "output_type": "execute_result"
    }
   ],
   "source": [
    "pca = PCA(n_components = 8)\n",
    "pca.fit(X_scaled)\n",
    "X_pca = pca.transform(X_scaled)\n",
    "X_pca.shape"
   ]
  },
  {
   "cell_type": "markdown",
   "id": "2b52d8c3",
   "metadata": {},
   "source": [
    "#### Split into Train, Validation, and Test Sets"
   ]
  },
  {
   "cell_type": "code",
   "execution_count": 27,
   "id": "33048495",
   "metadata": {},
   "outputs": [],
   "source": [
    "# split data into 30% test, 30% validation, and 40% train\n",
    "X_temp, X_test, y_temp, y_test = train_test_split(X_pca, y_scaled, test_size=0.3, random_state=42)\n",
    "X_train, X_val, y_train, y_val = train_test_split(X_temp, y_temp, test_size=0.3, random_state=42)"
   ]
  },
  {
   "cell_type": "markdown",
   "id": "048173fb",
   "metadata": {},
   "source": [
    "## 2. Exploratory Data Analysis"
   ]
  },
  {
   "cell_type": "code",
   "execution_count": null,
   "id": "d66f617e",
   "metadata": {},
   "outputs": [],
   "source": []
  },
  {
   "cell_type": "markdown",
   "id": "2946c052",
   "metadata": {},
   "source": [
    "## 3. Modeling"
   ]
  },
  {
   "cell_type": "markdown",
   "id": "c129e172",
   "metadata": {},
   "source": [
    "#### Multiple Linear Regression"
   ]
  },
  {
   "cell_type": "code",
   "execution_count": 45,
   "id": "6a0ab08c",
   "metadata": {},
   "outputs": [
    {
     "data": {
      "text/html": [
       "<style>#sk-container-id-4 {color: black;background-color: white;}#sk-container-id-4 pre{padding: 0;}#sk-container-id-4 div.sk-toggleable {background-color: white;}#sk-container-id-4 label.sk-toggleable__label {cursor: pointer;display: block;width: 100%;margin-bottom: 0;padding: 0.3em;box-sizing: border-box;text-align: center;}#sk-container-id-4 label.sk-toggleable__label-arrow:before {content: \"▸\";float: left;margin-right: 0.25em;color: #696969;}#sk-container-id-4 label.sk-toggleable__label-arrow:hover:before {color: black;}#sk-container-id-4 div.sk-estimator:hover label.sk-toggleable__label-arrow:before {color: black;}#sk-container-id-4 div.sk-toggleable__content {max-height: 0;max-width: 0;overflow: hidden;text-align: left;background-color: #f0f8ff;}#sk-container-id-4 div.sk-toggleable__content pre {margin: 0.2em;color: black;border-radius: 0.25em;background-color: #f0f8ff;}#sk-container-id-4 input.sk-toggleable__control:checked~div.sk-toggleable__content {max-height: 200px;max-width: 100%;overflow: auto;}#sk-container-id-4 input.sk-toggleable__control:checked~label.sk-toggleable__label-arrow:before {content: \"▾\";}#sk-container-id-4 div.sk-estimator input.sk-toggleable__control:checked~label.sk-toggleable__label {background-color: #d4ebff;}#sk-container-id-4 div.sk-label input.sk-toggleable__control:checked~label.sk-toggleable__label {background-color: #d4ebff;}#sk-container-id-4 input.sk-hidden--visually {border: 0;clip: rect(1px 1px 1px 1px);clip: rect(1px, 1px, 1px, 1px);height: 1px;margin: -1px;overflow: hidden;padding: 0;position: absolute;width: 1px;}#sk-container-id-4 div.sk-estimator {font-family: monospace;background-color: #f0f8ff;border: 1px dotted black;border-radius: 0.25em;box-sizing: border-box;margin-bottom: 0.5em;}#sk-container-id-4 div.sk-estimator:hover {background-color: #d4ebff;}#sk-container-id-4 div.sk-parallel-item::after {content: \"\";width: 100%;border-bottom: 1px solid gray;flex-grow: 1;}#sk-container-id-4 div.sk-label:hover label.sk-toggleable__label {background-color: #d4ebff;}#sk-container-id-4 div.sk-serial::before {content: \"\";position: absolute;border-left: 1px solid gray;box-sizing: border-box;top: 0;bottom: 0;left: 50%;z-index: 0;}#sk-container-id-4 div.sk-serial {display: flex;flex-direction: column;align-items: center;background-color: white;padding-right: 0.2em;padding-left: 0.2em;position: relative;}#sk-container-id-4 div.sk-item {position: relative;z-index: 1;}#sk-container-id-4 div.sk-parallel {display: flex;align-items: stretch;justify-content: center;background-color: white;position: relative;}#sk-container-id-4 div.sk-item::before, #sk-container-id-4 div.sk-parallel-item::before {content: \"\";position: absolute;border-left: 1px solid gray;box-sizing: border-box;top: 0;bottom: 0;left: 50%;z-index: -1;}#sk-container-id-4 div.sk-parallel-item {display: flex;flex-direction: column;z-index: 1;position: relative;background-color: white;}#sk-container-id-4 div.sk-parallel-item:first-child::after {align-self: flex-end;width: 50%;}#sk-container-id-4 div.sk-parallel-item:last-child::after {align-self: flex-start;width: 50%;}#sk-container-id-4 div.sk-parallel-item:only-child::after {width: 0;}#sk-container-id-4 div.sk-dashed-wrapped {border: 1px dashed gray;margin: 0 0.4em 0.5em 0.4em;box-sizing: border-box;padding-bottom: 0.4em;background-color: white;}#sk-container-id-4 div.sk-label label {font-family: monospace;font-weight: bold;display: inline-block;line-height: 1.2em;}#sk-container-id-4 div.sk-label-container {text-align: center;}#sk-container-id-4 div.sk-container {/* jupyter's `normalize.less` sets `[hidden] { display: none; }` but bootstrap.min.css set `[hidden] { display: none !important; }` so we also need the `!important` here to be able to override the default hidden behavior on the sphinx rendered scikit-learn.org. See: https://github.com/scikit-learn/scikit-learn/issues/21755 */display: inline-block !important;position: relative;}#sk-container-id-4 div.sk-text-repr-fallback {display: none;}</style><div id=\"sk-container-id-4\" class=\"sk-top-container\"><div class=\"sk-text-repr-fallback\"><pre>LinearRegression()</pre><b>In a Jupyter environment, please rerun this cell to show the HTML representation or trust the notebook. <br />On GitHub, the HTML representation is unable to render, please try loading this page with nbviewer.org.</b></div><div class=\"sk-container\" hidden><div class=\"sk-item\"><div class=\"sk-estimator sk-toggleable\"><input class=\"sk-toggleable__control sk-hidden--visually\" id=\"sk-estimator-id-4\" type=\"checkbox\" checked><label for=\"sk-estimator-id-4\" class=\"sk-toggleable__label sk-toggleable__label-arrow\">LinearRegression</label><div class=\"sk-toggleable__content\"><pre>LinearRegression()</pre></div></div></div></div></div>"
      ],
      "text/plain": [
       "LinearRegression()"
      ]
     },
     "execution_count": 45,
     "metadata": {},
     "output_type": "execute_result"
    }
   ],
   "source": [
    "# train the model on the training set\n",
    "ml = LinearRegression()\n",
    "ml.fit(X_train, y_train)"
   ]
  },
  {
   "cell_type": "code",
   "execution_count": 46,
   "id": "5b6812ce",
   "metadata": {},
   "outputs": [],
   "source": [
    "# apply model to validation set\n",
    "val_pred_ml = ml.predict(X_val)"
   ]
  },
  {
   "cell_type": "code",
   "execution_count": 47,
   "id": "1e00fbfe",
   "metadata": {},
   "outputs": [
    {
     "data": {
      "text/plain": [
       "0.9425723835040719"
      ]
     },
     "execution_count": 47,
     "metadata": {},
     "output_type": "execute_result"
    }
   ],
   "source": [
    "# evaluate the model with R2 Score on validation set\n",
    "r2_score(y_val, val_pred_ml)"
   ]
  },
  {
   "cell_type": "code",
   "execution_count": 48,
   "id": "89639429",
   "metadata": {},
   "outputs": [
    {
     "name": "stdout",
     "output_type": "stream",
     "text": [
      "\n",
      "Regression statistics\n",
      "\n",
      "                      Mean Error (ME) : -0.0004\n",
      "       Root Mean Squared Error (RMSE) : 0.0271\n",
      "            Mean Absolute Error (MAE) : 0.0199\n",
      "          Mean Percentage Error (MPE) : -1.6846\n",
      "Mean Absolute Percentage Error (MAPE) : 8.6534\n"
     ]
    }
   ],
   "source": [
    "# regression summary\n",
    "regressionSummary(y_val, val_pred_ml)"
   ]
  },
  {
   "cell_type": "code",
   "execution_count": 58,
   "id": "13510de4",
   "metadata": {},
   "outputs": [
    {
     "data": {
      "text/plain": [
       "Text(0.5, 1.0, 'Multiple Linear Regression Model - Actual vs Predicted')"
      ]
     },
     "execution_count": 58,
     "metadata": {},
     "output_type": "execute_result"
    },
    {
     "data": {
      "image/png": "[encoded data removed]",
      "text/plain": [
       "<Figure size 1500x1500 with 1 Axes>"
      ]
     },
     "metadata": {},
     "output_type": "display_data"
    }
   ],
   "source": [
    "# plot the results\n",
    "plt.figure(figsize=(15,15))\n",
    "plt.scatter(y_val, val_pred_ml)\n",
    "plt.xlabel('Actual')\n",
    "plt.ylabel('Predicted')\n",
    "plt.title('Multiple Linear Regression Model - Actual vs Predicted')"
   ]
  },
  {
   "cell_type": "code",
   "execution_count": 50,
   "id": "6545bddd",
   "metadata": {},
   "outputs": [
    {
     "data": {
      "text/html": [
       "<div>\n",
       "<style scoped>\n",
       "    .dataframe tbody tr th:only-of-type {\n",
       "        vertical-align: middle;\n",
       "    }\n",
       "\n",
       "    .dataframe tbody tr th {\n",
       "        vertical-align: top;\n",
       "    }\n",
       "\n",
       "    .dataframe thead th {\n",
       "        text-align: right;\n",
       "    }\n",
       "</style>\n",
       "<table border=\"1\" class=\"dataframe\">\n",
       "  <thead>\n",
       "    <tr style=\"text-align: right;\">\n",
       "      <th></th>\n",
       "      <th>Actual Value</th>\n",
       "      <th>Predicted Value</th>\n",
       "      <th>Residual</th>\n",
       "    </tr>\n",
       "  </thead>\n",
       "  <tbody>\n",
       "    <tr>\n",
       "      <th>0</th>\n",
       "      <td>0.192460</td>\n",
       "      <td>0.250809</td>\n",
       "      <td>-0.058349</td>\n",
       "    </tr>\n",
       "    <tr>\n",
       "      <th>1</th>\n",
       "      <td>0.164792</td>\n",
       "      <td>0.177572</td>\n",
       "      <td>-0.012780</td>\n",
       "    </tr>\n",
       "    <tr>\n",
       "      <th>2</th>\n",
       "      <td>0.220736</td>\n",
       "      <td>0.198892</td>\n",
       "      <td>0.021843</td>\n",
       "    </tr>\n",
       "    <tr>\n",
       "      <th>3</th>\n",
       "      <td>0.269383</td>\n",
       "      <td>0.305045</td>\n",
       "      <td>-0.035662</td>\n",
       "    </tr>\n",
       "    <tr>\n",
       "      <th>4</th>\n",
       "      <td>0.134387</td>\n",
       "      <td>0.129617</td>\n",
       "      <td>0.004770</td>\n",
       "    </tr>\n",
       "  </tbody>\n",
       "</table>\n",
       "</div>"
      ],
      "text/plain": [
       "   Actual Value  Predicted Value  Residual\n",
       "0      0.192460         0.250809 -0.058349\n",
       "1      0.164792         0.177572 -0.012780\n",
       "2      0.220736         0.198892  0.021843\n",
       "3      0.269383         0.305045 -0.035662\n",
       "4      0.134387         0.129617  0.004770"
      ]
     },
     "metadata": {},
     "output_type": "display_data"
    }
   ],
   "source": [
    "# predicted values\n",
    "pred_val_df = pd.DataFrame({'Actual Value': y_val.ravel(), 'Predicted Value': val_pred_ml.ravel(), 'Residual':y_val.ravel()-val_pred_ml.ravel()})\n",
    "display(pred_val_df.head())"
   ]
  },
  {
   "cell_type": "markdown",
   "id": "efc14e01",
   "metadata": {},
   "source": [
    "#### Random Forest"
   ]
  },
  {
   "cell_type": "code",
   "execution_count": 51,
   "id": "f37e45ab",
   "metadata": {},
   "outputs": [
    {
     "data": {
      "text/html": [
       "<style>#sk-container-id-5 {color: black;background-color: white;}#sk-container-id-5 pre{padding: 0;}#sk-container-id-5 div.sk-toggleable {background-color: white;}#sk-container-id-5 label.sk-toggleable__label {cursor: pointer;display: block;width: 100%;margin-bottom: 0;padding: 0.3em;box-sizing: border-box;text-align: center;}#sk-container-id-5 label.sk-toggleable__label-arrow:before {content: \"▸\";float: left;margin-right: 0.25em;color: #696969;}#sk-container-id-5 label.sk-toggleable__label-arrow:hover:before {color: black;}#sk-container-id-5 div.sk-estimator:hover label.sk-toggleable__label-arrow:before {color: black;}#sk-container-id-5 div.sk-toggleable__content {max-height: 0;max-width: 0;overflow: hidden;text-align: left;background-color: #f0f8ff;}#sk-container-id-5 div.sk-toggleable__content pre {margin: 0.2em;color: black;border-radius: 0.25em;background-color: #f0f8ff;}#sk-container-id-5 input.sk-toggleable__control:checked~div.sk-toggleable__content {max-height: 200px;max-width: 100%;overflow: auto;}#sk-container-id-5 input.sk-toggleable__control:checked~label.sk-toggleable__label-arrow:before {content: \"▾\";}#sk-container-id-5 div.sk-estimator input.sk-toggleable__control:checked~label.sk-toggleable__label {background-color: #d4ebff;}#sk-container-id-5 div.sk-label input.sk-toggleable__control:checked~label.sk-toggleable__label {background-color: #d4ebff;}#sk-container-id-5 input.sk-hidden--visually {border: 0;clip: rect(1px 1px 1px 1px);clip: rect(1px, 1px, 1px, 1px);height: 1px;margin: -1px;overflow: hidden;padding: 0;position: absolute;width: 1px;}#sk-container-id-5 div.sk-estimator {font-family: monospace;background-color: #f0f8ff;border: 1px dotted black;border-radius: 0.25em;box-sizing: border-box;margin-bottom: 0.5em;}#sk-container-id-5 div.sk-estimator:hover {background-color: #d4ebff;}#sk-container-id-5 div.sk-parallel-item::after {content: \"\";width: 100%;border-bottom: 1px solid gray;flex-grow: 1;}#sk-container-id-5 div.sk-label:hover label.sk-toggleable__label {background-color: #d4ebff;}#sk-container-id-5 div.sk-serial::before {content: \"\";position: absolute;border-left: 1px solid gray;box-sizing: border-box;top: 0;bottom: 0;left: 50%;z-index: 0;}#sk-container-id-5 div.sk-serial {display: flex;flex-direction: column;align-items: center;background-color: white;padding-right: 0.2em;padding-left: 0.2em;position: relative;}#sk-container-id-5 div.sk-item {position: relative;z-index: 1;}#sk-container-id-5 div.sk-parallel {display: flex;align-items: stretch;justify-content: center;background-color: white;position: relative;}#sk-container-id-5 div.sk-item::before, #sk-container-id-5 div.sk-parallel-item::before {content: \"\";position: absolute;border-left: 1px solid gray;box-sizing: border-box;top: 0;bottom: 0;left: 50%;z-index: -1;}#sk-container-id-5 div.sk-parallel-item {display: flex;flex-direction: column;z-index: 1;position: relative;background-color: white;}#sk-container-id-5 div.sk-parallel-item:first-child::after {align-self: flex-end;width: 50%;}#sk-container-id-5 div.sk-parallel-item:last-child::after {align-self: flex-start;width: 50%;}#sk-container-id-5 div.sk-parallel-item:only-child::after {width: 0;}#sk-container-id-5 div.sk-dashed-wrapped {border: 1px dashed gray;margin: 0 0.4em 0.5em 0.4em;box-sizing: border-box;padding-bottom: 0.4em;background-color: white;}#sk-container-id-5 div.sk-label label {font-family: monospace;font-weight: bold;display: inline-block;line-height: 1.2em;}#sk-container-id-5 div.sk-label-container {text-align: center;}#sk-container-id-5 div.sk-container {/* jupyter's `normalize.less` sets `[hidden] { display: none; }` but bootstrap.min.css set `[hidden] { display: none !important; }` so we also need the `!important` here to be able to override the default hidden behavior on the sphinx rendered scikit-learn.org. See: https://github.com/scikit-learn/scikit-learn/issues/21755 */display: inline-block !important;position: relative;}#sk-container-id-5 div.sk-text-repr-fallback {display: none;}</style><div id=\"sk-container-id-5\" class=\"sk-top-container\"><div class=\"sk-text-repr-fallback\"><pre>RandomForestRegressor(n_estimators=500, random_state=10)</pre><b>In a Jupyter environment, please rerun this cell to show the HTML representation or trust the notebook. <br />On GitHub, the HTML representation is unable to render, please try loading this page with nbviewer.org.</b></div><div class=\"sk-container\" hidden><div class=\"sk-item\"><div class=\"sk-estimator sk-toggleable\"><input class=\"sk-toggleable__control sk-hidden--visually\" id=\"sk-estimator-id-5\" type=\"checkbox\" checked><label for=\"sk-estimator-id-5\" class=\"sk-toggleable__label sk-toggleable__label-arrow\">RandomForestRegressor</label><div class=\"sk-toggleable__content\"><pre>RandomForestRegressor(n_estimators=500, random_state=10)</pre></div></div></div></div></div>"
      ],
      "text/plain": [
       "RandomForestRegressor(n_estimators=500, random_state=10)"
      ]
     },
     "execution_count": 51,
     "metadata": {},
     "output_type": "execute_result"
    }
   ],
   "source": [
    "rf = RandomForestRegressor(n_estimators = 500, random_state = 10)\n",
    "rf.fit(X_train, y_train.ravel())"
   ]
  },
  {
   "cell_type": "code",
   "execution_count": 52,
   "id": "089c522e",
   "metadata": {},
   "outputs": [],
   "source": [
    "# apply model to validation set\n",
    "val_pred_rf = rf.predict(X_val)"
   ]
  },
  {
   "cell_type": "code",
   "execution_count": 53,
   "id": "7dc69fe5",
   "metadata": {},
   "outputs": [
    {
     "data": {
      "text/plain": [
       "0.9610979407298195"
      ]
     },
     "execution_count": 53,
     "metadata": {},
     "output_type": "execute_result"
    }
   ],
   "source": [
    "# evaluate the model with R2 Score on validation set\n",
    "r2_score(y_val, val_pred_rf)"
   ]
  },
  {
   "cell_type": "code",
   "execution_count": 54,
   "id": "e21c72bf",
   "metadata": {},
   "outputs": [
    {
     "name": "stdout",
     "output_type": "stream",
     "text": [
      "\n",
      "Regression statistics\n",
      "\n",
      "                      Mean Error (ME) : -0.0004\n",
      "       Root Mean Squared Error (RMSE) : 0.0223\n",
      "            Mean Absolute Error (MAE) : 0.0156\n",
      "          Mean Percentage Error (MPE) : -1.4378\n",
      "Mean Absolute Percentage Error (MAPE) : 6.8257\n"
     ]
    }
   ],
   "source": [
    "# regression summary\n",
    "regressionSummary(y_val, val_pred_rf)"
   ]
  },
  {
   "cell_type": "code",
   "execution_count": 59,
   "id": "2848f321",
   "metadata": {},
   "outputs": [
    {
     "data": {
      "text/plain": [
       "Text(0.5, 1.0, 'Random Forest Model - Actual vs Predicted')"
      ]
     },
     "execution_count": 59,
     "metadata": {},
     "output_type": "execute_result"
    },
    {
     "data": {
      "image/png": "[encoded data removed]",
      "text/plain": [
       "<Figure size 1500x1500 with 1 Axes>"
      ]
     },
     "metadata": {},
     "output_type": "display_data"
    }
   ],
   "source": [
    "# plot the results\n",
    "plt.figure(figsize=(15,15))\n",
    "plt.scatter(y_val, val_pred_rf)\n",
    "plt.xlabel('Actual')\n",
    "plt.ylabel('Predicted')\n",
    "plt.title('Random Forest Model - Actual vs Predicted')"
   ]
  },
  {
   "cell_type": "code",
   "execution_count": null,
   "id": "4d414d1c",
   "metadata": {},
   "outputs": [],
   "source": []
  }
 ],
 "metadata": {
  "kernelspec": {
   "display_name": "Python 3 (ipykernel)",
   "language": "python",
   "name": "python3"
  },
  "language_info": {
   "codemirror_mode": {
    "name": "ipython",
    "version": 3
   },
   "file_extension": ".py",
   "mimetype": "text/x-python",
   "name": "python",
   "nbconvert_exporter": "python",
   "pygments_lexer": "ipython3",
   "version": "3.11.4"
  }
 },
 "nbformat": 4,
 "nbformat_minor": 5
}
