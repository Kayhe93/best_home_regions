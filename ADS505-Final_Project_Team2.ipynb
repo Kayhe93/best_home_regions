{
 "cells": [
  {
   "cell_type": "markdown",
   "id": "ab713229",
   "metadata": {},
   "source": [
    "# ADS 505 Final Project"
   ]
  },
  {
   "cell_type": "markdown",
   "id": "fe2d6d82",
   "metadata": {},
   "source": [
    "## Best Home Regions"
   ]
  },
  {
   "cell_type": "markdown",
   "id": "8500c22b",
   "metadata": {},
   "source": [
    "### Claire Bentzen, Jiaqi He, Sultan Mahmud Rahat"
   ]
  },
  {
   "cell_type": "markdown",
   "id": "28b5ea4b",
   "metadata": {},
   "source": [
    "## 1. Data Preprocessing"
   ]
  },
  {
   "cell_type": "code",
   "execution_count": 58,
   "id": "2880f16e",
   "metadata": {},
   "outputs": [],
   "source": [
    "import pandas as pd\n",
    "import numpy as np\n",
    "import matplotlib.pyplot as plt\n",
    "\n",
    "from sklearn.preprocessing import MinMaxScaler\n",
    "from sklearn.model_selection import train_test_split\n",
    "\n",
    "from sklearn.linear_model import LinearRegression\n",
    "from sklearn.metrics import r2_score\n",
    "\n",
    "from sklearn.metrics import accuracy_score\n",
    "from sklearn.neighbors import NearestNeighbors, KNeighborsClassifier\n",
    "\n",
    "from sklearn.ensemble import RandomForestClassifier\n",
    "\n",
    "import seaborn as sns"
   ]
  },
  {
   "cell_type": "code",
   "execution_count": 33,
   "id": "c0d3608f",
   "metadata": {},
   "outputs": [],
   "source": [
    "# read in data\n",
    "homes = pd.read_csv('final_dataset.csv')\n",
    "homes.head()\n",
    "\n",
    "# drop most recent mortgage and price to rent columns\n",
    "homes.drop(columns=['PriceToRentRatio_2017-09', 'MortgageRateConventionalFixed_2017-09'], inplace=True)"
   ]
  },
  {
   "cell_type": "code",
   "execution_count": 34,
   "id": "1b21f747",
   "metadata": {},
   "outputs": [
    {
     "data": {
      "text/plain": [
       "(14233, 166)"
      ]
     },
     "execution_count": 34,
     "metadata": {},
     "output_type": "execute_result"
    }
   ],
   "source": [
    "# identify number of rows and columns\n",
    "homes.shape"
   ]
  },
  {
   "cell_type": "markdown",
   "id": "37f2b112",
   "metadata": {},
   "source": [
    "#### Check for Duplicate Records"
   ]
  },
  {
   "cell_type": "code",
   "execution_count": 35,
   "id": "e732ac39",
   "metadata": {},
   "outputs": [
    {
     "data": {
      "text/plain": [
       "(0, 166)"
      ]
     },
     "execution_count": 35,
     "metadata": {},
     "output_type": "execute_result"
    }
   ],
   "source": [
    "# check for duplicates\n",
    "duplicate_homes = homes[homes.duplicated()]\n",
    "duplicate_homes.shape"
   ]
  },
  {
   "cell_type": "markdown",
   "id": "af0e26a2",
   "metadata": {},
   "source": [
    "There are no duplicate records in the dataset."
   ]
  },
  {
   "cell_type": "markdown",
   "id": "2fbb0815",
   "metadata": {},
   "source": [
    "#### Check for Missing Values"
   ]
  },
  {
   "cell_type": "code",
   "execution_count": 36,
   "id": "3f2850b0",
   "metadata": {},
   "outputs": [
    {
     "name": "stdout",
     "output_type": "stream",
     "text": [
      "Total percentage of missing data: 1.65%\n"
     ]
    }
   ],
   "source": [
    "# check for overall percentage of missing values\n",
    "missing_values = homes.isnull().sum().sum()\n",
    "percent_missing = (missing_values / homes.size) * 100\n",
    "print(\"Total percentage of missing data: {:.2f}%\".format(percent_missing))"
   ]
  },
  {
   "cell_type": "code",
   "execution_count": 37,
   "id": "0e73651c",
   "metadata": {},
   "outputs": [],
   "source": [
    "pd.set_option('display.max_rows', None)\n",
    "\n",
    "# check which columns missing values reside in\n",
    "missing_homes = homes.isnull().sum()\n",
    "columns_missing_values = missing_homes[missing_homes > 0]\n",
    "\n",
    "# turn missing values series into dataframe\n",
    "columns_missing_values_df = columns_missing_values.to_frame()\n",
    "columns_missing_values_df.columns = ['Count']"
   ]
  },
  {
   "cell_type": "code",
   "execution_count": 38,
   "id": "b2af9cb2",
   "metadata": {},
   "outputs": [],
   "source": [
    "# missing values as percentages\n",
    "columns_missing_values_percents = (columns_missing_values / homes.size) * 100\n",
    "\n",
    "# turn missing values percentage series into dataframe\n",
    "columns_missing_values_percents_df = columns_missing_values_percents.to_frame()\n",
    "columns_missing_values_percents_df.columns = ['%']"
   ]
  },
  {
   "cell_type": "code",
   "execution_count": 39,
   "id": "994267d5",
   "metadata": {},
   "outputs": [
    {
     "data": {
      "text/html": [
       "<div>\n",
       "<style scoped>\n",
       "    .dataframe tbody tr th:only-of-type {\n",
       "        vertical-align: middle;\n",
       "    }\n",
       "\n",
       "    .dataframe tbody tr th {\n",
       "        vertical-align: top;\n",
       "    }\n",
       "\n",
       "    .dataframe thead th {\n",
       "        text-align: right;\n",
       "    }\n",
       "</style>\n",
       "<table border=\"1\" class=\"dataframe\">\n",
       "  <thead>\n",
       "    <tr style=\"text-align: right;\">\n",
       "      <th></th>\n",
       "      <th>Count</th>\n",
       "      <th>%</th>\n",
       "    </tr>\n",
       "  </thead>\n",
       "  <tbody>\n",
       "    <tr>\n",
       "      <th>PriceToRentRatio_2010-10</th>\n",
       "      <td>994</td>\n",
       "      <td>0.042071</td>\n",
       "    </tr>\n",
       "    <tr>\n",
       "      <th>PriceToRentRatio_2010-11</th>\n",
       "      <td>1184</td>\n",
       "      <td>0.050113</td>\n",
       "    </tr>\n",
       "    <tr>\n",
       "      <th>PriceToRentRatio_2010-12</th>\n",
       "      <td>906</td>\n",
       "      <td>0.038346</td>\n",
       "    </tr>\n",
       "    <tr>\n",
       "      <th>PriceToRentRatio_2011-01</th>\n",
       "      <td>691</td>\n",
       "      <td>0.029246</td>\n",
       "    </tr>\n",
       "    <tr>\n",
       "      <th>PriceToRentRatio_2011-02</th>\n",
       "      <td>651</td>\n",
       "      <td>0.027553</td>\n",
       "    </tr>\n",
       "    <tr>\n",
       "      <th>PriceToRentRatio_2011-03</th>\n",
       "      <td>724</td>\n",
       "      <td>0.030643</td>\n",
       "    </tr>\n",
       "    <tr>\n",
       "      <th>PriceToRentRatio_2011-04</th>\n",
       "      <td>635</td>\n",
       "      <td>0.026876</td>\n",
       "    </tr>\n",
       "    <tr>\n",
       "      <th>PriceToRentRatio_2011-05</th>\n",
       "      <td>644</td>\n",
       "      <td>0.027257</td>\n",
       "    </tr>\n",
       "    <tr>\n",
       "      <th>PriceToRentRatio_2011-06</th>\n",
       "      <td>693</td>\n",
       "      <td>0.029331</td>\n",
       "    </tr>\n",
       "    <tr>\n",
       "      <th>PriceToRentRatio_2011-07</th>\n",
       "      <td>632</td>\n",
       "      <td>0.026749</td>\n",
       "    </tr>\n",
       "    <tr>\n",
       "      <th>PriceToRentRatio_2011-08</th>\n",
       "      <td>608</td>\n",
       "      <td>0.025734</td>\n",
       "    </tr>\n",
       "    <tr>\n",
       "      <th>PriceToRentRatio_2011-09</th>\n",
       "      <td>609</td>\n",
       "      <td>0.025776</td>\n",
       "    </tr>\n",
       "    <tr>\n",
       "      <th>PriceToRentRatio_2011-10</th>\n",
       "      <td>607</td>\n",
       "      <td>0.025691</td>\n",
       "    </tr>\n",
       "    <tr>\n",
       "      <th>PriceToRentRatio_2011-11</th>\n",
       "      <td>645</td>\n",
       "      <td>0.027300</td>\n",
       "    </tr>\n",
       "    <tr>\n",
       "      <th>PriceToRentRatio_2011-12</th>\n",
       "      <td>683</td>\n",
       "      <td>0.028908</td>\n",
       "    </tr>\n",
       "    <tr>\n",
       "      <th>PriceToRentRatio_2012-01</th>\n",
       "      <td>633</td>\n",
       "      <td>0.026792</td>\n",
       "    </tr>\n",
       "    <tr>\n",
       "      <th>PriceToRentRatio_2012-02</th>\n",
       "      <td>591</td>\n",
       "      <td>0.025014</td>\n",
       "    </tr>\n",
       "    <tr>\n",
       "      <th>PriceToRentRatio_2012-03</th>\n",
       "      <td>617</td>\n",
       "      <td>0.026114</td>\n",
       "    </tr>\n",
       "    <tr>\n",
       "      <th>PriceToRentRatio_2012-04</th>\n",
       "      <td>617</td>\n",
       "      <td>0.026114</td>\n",
       "    </tr>\n",
       "    <tr>\n",
       "      <th>PriceToRentRatio_2012-05</th>\n",
       "      <td>632</td>\n",
       "      <td>0.026749</td>\n",
       "    </tr>\n",
       "    <tr>\n",
       "      <th>PriceToRentRatio_2012-06</th>\n",
       "      <td>679</td>\n",
       "      <td>0.028739</td>\n",
       "    </tr>\n",
       "    <tr>\n",
       "      <th>PriceToRentRatio_2012-07</th>\n",
       "      <td>664</td>\n",
       "      <td>0.028104</td>\n",
       "    </tr>\n",
       "    <tr>\n",
       "      <th>PriceToRentRatio_2012-08</th>\n",
       "      <td>701</td>\n",
       "      <td>0.029670</td>\n",
       "    </tr>\n",
       "    <tr>\n",
       "      <th>PriceToRentRatio_2012-09</th>\n",
       "      <td>636</td>\n",
       "      <td>0.026919</td>\n",
       "    </tr>\n",
       "    <tr>\n",
       "      <th>PriceToRentRatio_2012-10</th>\n",
       "      <td>670</td>\n",
       "      <td>0.028358</td>\n",
       "    </tr>\n",
       "    <tr>\n",
       "      <th>PriceToRentRatio_2012-11</th>\n",
       "      <td>602</td>\n",
       "      <td>0.025480</td>\n",
       "    </tr>\n",
       "    <tr>\n",
       "      <th>PriceToRentRatio_2012-12</th>\n",
       "      <td>619</td>\n",
       "      <td>0.026199</td>\n",
       "    </tr>\n",
       "    <tr>\n",
       "      <th>PriceToRentRatio_2013-01</th>\n",
       "      <td>628</td>\n",
       "      <td>0.026580</td>\n",
       "    </tr>\n",
       "    <tr>\n",
       "      <th>PriceToRentRatio_2013-02</th>\n",
       "      <td>608</td>\n",
       "      <td>0.025734</td>\n",
       "    </tr>\n",
       "    <tr>\n",
       "      <th>PriceToRentRatio_2013-03</th>\n",
       "      <td>641</td>\n",
       "      <td>0.027130</td>\n",
       "    </tr>\n",
       "    <tr>\n",
       "      <th>PriceToRentRatio_2013-04</th>\n",
       "      <td>579</td>\n",
       "      <td>0.024506</td>\n",
       "    </tr>\n",
       "    <tr>\n",
       "      <th>PriceToRentRatio_2013-05</th>\n",
       "      <td>529</td>\n",
       "      <td>0.022390</td>\n",
       "    </tr>\n",
       "    <tr>\n",
       "      <th>PriceToRentRatio_2013-06</th>\n",
       "      <td>504</td>\n",
       "      <td>0.021332</td>\n",
       "    </tr>\n",
       "    <tr>\n",
       "      <th>PriceToRentRatio_2013-07</th>\n",
       "      <td>505</td>\n",
       "      <td>0.021374</td>\n",
       "    </tr>\n",
       "    <tr>\n",
       "      <th>PriceToRentRatio_2013-08</th>\n",
       "      <td>446</td>\n",
       "      <td>0.018877</td>\n",
       "    </tr>\n",
       "    <tr>\n",
       "      <th>PriceToRentRatio_2013-09</th>\n",
       "      <td>446</td>\n",
       "      <td>0.018877</td>\n",
       "    </tr>\n",
       "    <tr>\n",
       "      <th>PriceToRentRatio_2013-10</th>\n",
       "      <td>436</td>\n",
       "      <td>0.018454</td>\n",
       "    </tr>\n",
       "    <tr>\n",
       "      <th>PriceToRentRatio_2013-11</th>\n",
       "      <td>435</td>\n",
       "      <td>0.018411</td>\n",
       "    </tr>\n",
       "    <tr>\n",
       "      <th>PriceToRentRatio_2013-12</th>\n",
       "      <td>472</td>\n",
       "      <td>0.019977</td>\n",
       "    </tr>\n",
       "    <tr>\n",
       "      <th>PriceToRentRatio_2014-01</th>\n",
       "      <td>471</td>\n",
       "      <td>0.019935</td>\n",
       "    </tr>\n",
       "    <tr>\n",
       "      <th>PriceToRentRatio_2014-02</th>\n",
       "      <td>457</td>\n",
       "      <td>0.019342</td>\n",
       "    </tr>\n",
       "    <tr>\n",
       "      <th>PriceToRentRatio_2014-03</th>\n",
       "      <td>454</td>\n",
       "      <td>0.019215</td>\n",
       "    </tr>\n",
       "    <tr>\n",
       "      <th>PriceToRentRatio_2014-04</th>\n",
       "      <td>437</td>\n",
       "      <td>0.018496</td>\n",
       "    </tr>\n",
       "    <tr>\n",
       "      <th>PriceToRentRatio_2014-05</th>\n",
       "      <td>467</td>\n",
       "      <td>0.019766</td>\n",
       "    </tr>\n",
       "    <tr>\n",
       "      <th>PriceToRentRatio_2014-06</th>\n",
       "      <td>404</td>\n",
       "      <td>0.017099</td>\n",
       "    </tr>\n",
       "    <tr>\n",
       "      <th>PriceToRentRatio_2014-07</th>\n",
       "      <td>406</td>\n",
       "      <td>0.017184</td>\n",
       "    </tr>\n",
       "    <tr>\n",
       "      <th>PriceToRentRatio_2014-08</th>\n",
       "      <td>404</td>\n",
       "      <td>0.017099</td>\n",
       "    </tr>\n",
       "    <tr>\n",
       "      <th>PriceToRentRatio_2014-09</th>\n",
       "      <td>404</td>\n",
       "      <td>0.017099</td>\n",
       "    </tr>\n",
       "    <tr>\n",
       "      <th>PriceToRentRatio_2014-10</th>\n",
       "      <td>404</td>\n",
       "      <td>0.017099</td>\n",
       "    </tr>\n",
       "    <tr>\n",
       "      <th>PriceToRentRatio_2014-11</th>\n",
       "      <td>404</td>\n",
       "      <td>0.017099</td>\n",
       "    </tr>\n",
       "    <tr>\n",
       "      <th>PriceToRentRatio_2014-12</th>\n",
       "      <td>406</td>\n",
       "      <td>0.017184</td>\n",
       "    </tr>\n",
       "    <tr>\n",
       "      <th>PriceToRentRatio_2015-01</th>\n",
       "      <td>414</td>\n",
       "      <td>0.017522</td>\n",
       "    </tr>\n",
       "    <tr>\n",
       "      <th>PriceToRentRatio_2015-02</th>\n",
       "      <td>401</td>\n",
       "      <td>0.016972</td>\n",
       "    </tr>\n",
       "    <tr>\n",
       "      <th>PriceToRentRatio_2015-03</th>\n",
       "      <td>401</td>\n",
       "      <td>0.016972</td>\n",
       "    </tr>\n",
       "    <tr>\n",
       "      <th>PriceToRentRatio_2015-04</th>\n",
       "      <td>413</td>\n",
       "      <td>0.017480</td>\n",
       "    </tr>\n",
       "    <tr>\n",
       "      <th>PriceToRentRatio_2015-05</th>\n",
       "      <td>401</td>\n",
       "      <td>0.016972</td>\n",
       "    </tr>\n",
       "    <tr>\n",
       "      <th>PriceToRentRatio_2015-06</th>\n",
       "      <td>402</td>\n",
       "      <td>0.017015</td>\n",
       "    </tr>\n",
       "    <tr>\n",
       "      <th>PriceToRentRatio_2015-07</th>\n",
       "      <td>435</td>\n",
       "      <td>0.018411</td>\n",
       "    </tr>\n",
       "    <tr>\n",
       "      <th>PriceToRentRatio_2015-08</th>\n",
       "      <td>397</td>\n",
       "      <td>0.016803</td>\n",
       "    </tr>\n",
       "    <tr>\n",
       "      <th>PriceToRentRatio_2015-09</th>\n",
       "      <td>397</td>\n",
       "      <td>0.016803</td>\n",
       "    </tr>\n",
       "    <tr>\n",
       "      <th>PriceToRentRatio_2015-10</th>\n",
       "      <td>396</td>\n",
       "      <td>0.016761</td>\n",
       "    </tr>\n",
       "    <tr>\n",
       "      <th>PriceToRentRatio_2015-11</th>\n",
       "      <td>391</td>\n",
       "      <td>0.016549</td>\n",
       "    </tr>\n",
       "    <tr>\n",
       "      <th>PriceToRentRatio_2015-12</th>\n",
       "      <td>383</td>\n",
       "      <td>0.016210</td>\n",
       "    </tr>\n",
       "    <tr>\n",
       "      <th>PriceToRentRatio_2016-01</th>\n",
       "      <td>383</td>\n",
       "      <td>0.016210</td>\n",
       "    </tr>\n",
       "    <tr>\n",
       "      <th>PriceToRentRatio_2016-02</th>\n",
       "      <td>413</td>\n",
       "      <td>0.017480</td>\n",
       "    </tr>\n",
       "    <tr>\n",
       "      <th>PriceToRentRatio_2016-03</th>\n",
       "      <td>396</td>\n",
       "      <td>0.016761</td>\n",
       "    </tr>\n",
       "    <tr>\n",
       "      <th>PriceToRentRatio_2016-04</th>\n",
       "      <td>389</td>\n",
       "      <td>0.016464</td>\n",
       "    </tr>\n",
       "    <tr>\n",
       "      <th>PriceToRentRatio_2016-05</th>\n",
       "      <td>387</td>\n",
       "      <td>0.016380</td>\n",
       "    </tr>\n",
       "    <tr>\n",
       "      <th>PriceToRentRatio_2016-06</th>\n",
       "      <td>272</td>\n",
       "      <td>0.011512</td>\n",
       "    </tr>\n",
       "    <tr>\n",
       "      <th>PriceToRentRatio_2016-07</th>\n",
       "      <td>218</td>\n",
       "      <td>0.009227</td>\n",
       "    </tr>\n",
       "    <tr>\n",
       "      <th>PriceToRentRatio_2016-08</th>\n",
       "      <td>255</td>\n",
       "      <td>0.010793</td>\n",
       "    </tr>\n",
       "    <tr>\n",
       "      <th>PriceToRentRatio_2016-09</th>\n",
       "      <td>217</td>\n",
       "      <td>0.009184</td>\n",
       "    </tr>\n",
       "    <tr>\n",
       "      <th>PriceToRentRatio_2016-10</th>\n",
       "      <td>217</td>\n",
       "      <td>0.009184</td>\n",
       "    </tr>\n",
       "    <tr>\n",
       "      <th>PriceToRentRatio_2016-11</th>\n",
       "      <td>217</td>\n",
       "      <td>0.009184</td>\n",
       "    </tr>\n",
       "    <tr>\n",
       "      <th>PriceToRentRatio_2016-12</th>\n",
       "      <td>260</td>\n",
       "      <td>0.011004</td>\n",
       "    </tr>\n",
       "    <tr>\n",
       "      <th>PriceToRentRatio_2017-01</th>\n",
       "      <td>216</td>\n",
       "      <td>0.009142</td>\n",
       "    </tr>\n",
       "    <tr>\n",
       "      <th>PriceToRentRatio_2017-02</th>\n",
       "      <td>214</td>\n",
       "      <td>0.009058</td>\n",
       "    </tr>\n",
       "    <tr>\n",
       "      <th>PriceToRentRatio_2017-03</th>\n",
       "      <td>213</td>\n",
       "      <td>0.009015</td>\n",
       "    </tr>\n",
       "    <tr>\n",
       "      <th>PriceToRentRatio_2017-04</th>\n",
       "      <td>38</td>\n",
       "      <td>0.001608</td>\n",
       "    </tr>\n",
       "  </tbody>\n",
       "</table>\n",
       "</div>"
      ],
      "text/plain": [
       "                          Count         %\n",
       "PriceToRentRatio_2010-10    994  0.042071\n",
       "PriceToRentRatio_2010-11   1184  0.050113\n",
       "PriceToRentRatio_2010-12    906  0.038346\n",
       "PriceToRentRatio_2011-01    691  0.029246\n",
       "PriceToRentRatio_2011-02    651  0.027553\n",
       "PriceToRentRatio_2011-03    724  0.030643\n",
       "PriceToRentRatio_2011-04    635  0.026876\n",
       "PriceToRentRatio_2011-05    644  0.027257\n",
       "PriceToRentRatio_2011-06    693  0.029331\n",
       "PriceToRentRatio_2011-07    632  0.026749\n",
       "PriceToRentRatio_2011-08    608  0.025734\n",
       "PriceToRentRatio_2011-09    609  0.025776\n",
       "PriceToRentRatio_2011-10    607  0.025691\n",
       "PriceToRentRatio_2011-11    645  0.027300\n",
       "PriceToRentRatio_2011-12    683  0.028908\n",
       "PriceToRentRatio_2012-01    633  0.026792\n",
       "PriceToRentRatio_2012-02    591  0.025014\n",
       "PriceToRentRatio_2012-03    617  0.026114\n",
       "PriceToRentRatio_2012-04    617  0.026114\n",
       "PriceToRentRatio_2012-05    632  0.026749\n",
       "PriceToRentRatio_2012-06    679  0.028739\n",
       "PriceToRentRatio_2012-07    664  0.028104\n",
       "PriceToRentRatio_2012-08    701  0.029670\n",
       "PriceToRentRatio_2012-09    636  0.026919\n",
       "PriceToRentRatio_2012-10    670  0.028358\n",
       "PriceToRentRatio_2012-11    602  0.025480\n",
       "PriceToRentRatio_2012-12    619  0.026199\n",
       "PriceToRentRatio_2013-01    628  0.026580\n",
       "PriceToRentRatio_2013-02    608  0.025734\n",
       "PriceToRentRatio_2013-03    641  0.027130\n",
       "PriceToRentRatio_2013-04    579  0.024506\n",
       "PriceToRentRatio_2013-05    529  0.022390\n",
       "PriceToRentRatio_2013-06    504  0.021332\n",
       "PriceToRentRatio_2013-07    505  0.021374\n",
       "PriceToRentRatio_2013-08    446  0.018877\n",
       "PriceToRentRatio_2013-09    446  0.018877\n",
       "PriceToRentRatio_2013-10    436  0.018454\n",
       "PriceToRentRatio_2013-11    435  0.018411\n",
       "PriceToRentRatio_2013-12    472  0.019977\n",
       "PriceToRentRatio_2014-01    471  0.019935\n",
       "PriceToRentRatio_2014-02    457  0.019342\n",
       "PriceToRentRatio_2014-03    454  0.019215\n",
       "PriceToRentRatio_2014-04    437  0.018496\n",
       "PriceToRentRatio_2014-05    467  0.019766\n",
       "PriceToRentRatio_2014-06    404  0.017099\n",
       "PriceToRentRatio_2014-07    406  0.017184\n",
       "PriceToRentRatio_2014-08    404  0.017099\n",
       "PriceToRentRatio_2014-09    404  0.017099\n",
       "PriceToRentRatio_2014-10    404  0.017099\n",
       "PriceToRentRatio_2014-11    404  0.017099\n",
       "PriceToRentRatio_2014-12    406  0.017184\n",
       "PriceToRentRatio_2015-01    414  0.017522\n",
       "PriceToRentRatio_2015-02    401  0.016972\n",
       "PriceToRentRatio_2015-03    401  0.016972\n",
       "PriceToRentRatio_2015-04    413  0.017480\n",
       "PriceToRentRatio_2015-05    401  0.016972\n",
       "PriceToRentRatio_2015-06    402  0.017015\n",
       "PriceToRentRatio_2015-07    435  0.018411\n",
       "PriceToRentRatio_2015-08    397  0.016803\n",
       "PriceToRentRatio_2015-09    397  0.016803\n",
       "PriceToRentRatio_2015-10    396  0.016761\n",
       "PriceToRentRatio_2015-11    391  0.016549\n",
       "PriceToRentRatio_2015-12    383  0.016210\n",
       "PriceToRentRatio_2016-01    383  0.016210\n",
       "PriceToRentRatio_2016-02    413  0.017480\n",
       "PriceToRentRatio_2016-03    396  0.016761\n",
       "PriceToRentRatio_2016-04    389  0.016464\n",
       "PriceToRentRatio_2016-05    387  0.016380\n",
       "PriceToRentRatio_2016-06    272  0.011512\n",
       "PriceToRentRatio_2016-07    218  0.009227\n",
       "PriceToRentRatio_2016-08    255  0.010793\n",
       "PriceToRentRatio_2016-09    217  0.009184\n",
       "PriceToRentRatio_2016-10    217  0.009184\n",
       "PriceToRentRatio_2016-11    217  0.009184\n",
       "PriceToRentRatio_2016-12    260  0.011004\n",
       "PriceToRentRatio_2017-01    216  0.009142\n",
       "PriceToRentRatio_2017-02    214  0.009058\n",
       "PriceToRentRatio_2017-03    213  0.009015\n",
       "PriceToRentRatio_2017-04     38  0.001608"
      ]
     },
     "execution_count": 39,
     "metadata": {},
     "output_type": "execute_result"
    }
   ],
   "source": [
    "# merge dataframes to display counts against percentages\n",
    "missing = columns_missing_values_df.join(columns_missing_values_percents_df, how='inner')\n",
    "missing"
   ]
  },
  {
   "cell_type": "code",
   "execution_count": 40,
   "id": "dfa1040a",
   "metadata": {},
   "outputs": [
    {
     "data": {
      "text/plain": [
       "(12786, 166)"
      ]
     },
     "execution_count": 40,
     "metadata": {},
     "output_type": "execute_result"
    }
   ],
   "source": [
    "# drop missing values in the dataset\n",
    "homes = homes.dropna()\n",
    "homes.shape"
   ]
  },
  {
   "cell_type": "markdown",
   "id": "a0d434ca",
   "metadata": {},
   "source": [
    "Although missing values only made up 1.65% of the overall dataset, we have dropped rows that contained missing values which brought the dataset to have 12,786 remaining records."
   ]
  },
  {
   "cell_type": "markdown",
   "id": "663040b3",
   "metadata": {},
   "source": [
    "#### Select and Normalize Data"
   ]
  },
  {
   "cell_type": "code",
   "execution_count": 41,
   "id": "b1399387",
   "metadata": {},
   "outputs": [],
   "source": [
    "# convert categorical columns to type column\n",
    "categorical = ['RegionID', 'RegionName', 'City', 'State', 'Metro', 'CountyName']\n",
    "homes[categorical] = homes[categorical].astype('category')"
   ]
  },
  {
   "cell_type": "code",
   "execution_count": 42,
   "id": "3a38efc0",
   "metadata": {},
   "outputs": [],
   "source": [
    "# select feature and target columns\n",
    "feature_columns = [col for col in homes.columns if col not in categorical]\n",
    "X = homes.drop(columns='New_Composite_Score')\n",
    "\n",
    "y = homes['New_Composite_Score'].values.reshape(-1, 1)"
   ]
  },
  {
   "cell_type": "code",
   "execution_count": 43,
   "id": "860b1004",
   "metadata": {},
   "outputs": [],
   "source": [
    "# scale columns using MinMaxScaler\n",
    "scaler_X = MinMaxScaler()\n",
    "scaler_y = MinMaxScaler()\n",
    "\n",
    "# apply MinMaxScaler to X and y\n",
    "X_scaled = homes.copy()\n",
    "X_scaled[feature_columns] = scaler_X.fit_transform(X_scaled[feature_columns])\n",
    "y_scaled = scaler_y.fit_transform(y)"
   ]
  },
  {
   "cell_type": "markdown",
   "id": "2b52d8c3",
   "metadata": {},
   "source": [
    "#### Split into Train, Validation, and Test Sets"
   ]
  },
  {
   "cell_type": "code",
   "execution_count": 45,
   "id": "33048495",
   "metadata": {},
   "outputs": [],
   "source": [
    "# split data into 30% test, 30% validation, and 40% train\n",
    "X_temp, X_test, y_temp, y_test = train_test_split(X_scaled, y_scaled, test_size=0.3, random_state=42)\n",
    "X_train, X_val, y_train, y_val = train_test_split(X_temp, y_temp, test_size=0.3, random_state=42)"
   ]
  },
  {
   "cell_type": "markdown",
   "id": "048173fb",
   "metadata": {},
   "source": [
    "## 2. Exploratory Data Analysis"
   ]
  },
  {
   "cell_type": "code",
   "execution_count": null,
   "id": "d66f617e",
   "metadata": {},
   "outputs": [],
   "source": []
  },
  {
   "cell_type": "markdown",
   "id": "2946c052",
   "metadata": {},
   "source": [
    "## 3. Modeling"
   ]
  },
  {
   "cell_type": "markdown",
   "id": "c129e172",
   "metadata": {},
   "source": [
    "#### Multiple Linear Regression"
   ]
  },
  {
   "cell_type": "code",
   "execution_count": 47,
   "id": "f4161480",
   "metadata": {},
   "outputs": [],
   "source": [
    "# feature selection\n",
    "desired_columns = ['PriceToRentRatio_2017-05', 'PriceToRentRatio_2017-06', 'PriceToRentRatio_2017-07', \n",
    "                   'PriceToRentRatio_2017-08', 'RegionName', 'SizeRank']\n",
    "X_train_lr = X_train[desired_columns]\n",
    "X_test_lr = X_test[desired_columns]\n",
    "X_val_lr = X_val[desired_columns]"
   ]
  },
  {
   "cell_type": "code",
   "execution_count": 51,
   "id": "3269a16d",
   "metadata": {},
   "outputs": [],
   "source": [
    "# one-hot encode categorical variable\n",
    "X_train_lr_encoded = pd.get_dummies(X_train_lr, columns=['RegionName'])\n",
    "X_test_lr_encoded = pd.get_dummies(X_test_lr, columns=['RegionName'])\n",
    "X_val_lr_encoded = pd.get_dummies(X_val_lr, columns=['RegionName'])"
   ]
  },
  {
   "cell_type": "code",
   "execution_count": 52,
   "id": "6a0ab08c",
   "metadata": {},
   "outputs": [
    {
     "data": {
      "text/html": [
       "<style>#sk-container-id-3 {color: black;background-color: white;}#sk-container-id-3 pre{padding: 0;}#sk-container-id-3 div.sk-toggleable {background-color: white;}#sk-container-id-3 label.sk-toggleable__label {cursor: pointer;display: block;width: 100%;margin-bottom: 0;padding: 0.3em;box-sizing: border-box;text-align: center;}#sk-container-id-3 label.sk-toggleable__label-arrow:before {content: \"▸\";float: left;margin-right: 0.25em;color: #696969;}#sk-container-id-3 label.sk-toggleable__label-arrow:hover:before {color: black;}#sk-container-id-3 div.sk-estimator:hover label.sk-toggleable__label-arrow:before {color: black;}#sk-container-id-3 div.sk-toggleable__content {max-height: 0;max-width: 0;overflow: hidden;text-align: left;background-color: #f0f8ff;}#sk-container-id-3 div.sk-toggleable__content pre {margin: 0.2em;color: black;border-radius: 0.25em;background-color: #f0f8ff;}#sk-container-id-3 input.sk-toggleable__control:checked~div.sk-toggleable__content {max-height: 200px;max-width: 100%;overflow: auto;}#sk-container-id-3 input.sk-toggleable__control:checked~label.sk-toggleable__label-arrow:before {content: \"▾\";}#sk-container-id-3 div.sk-estimator input.sk-toggleable__control:checked~label.sk-toggleable__label {background-color: #d4ebff;}#sk-container-id-3 div.sk-label input.sk-toggleable__control:checked~label.sk-toggleable__label {background-color: #d4ebff;}#sk-container-id-3 input.sk-hidden--visually {border: 0;clip: rect(1px 1px 1px 1px);clip: rect(1px, 1px, 1px, 1px);height: 1px;margin: -1px;overflow: hidden;padding: 0;position: absolute;width: 1px;}#sk-container-id-3 div.sk-estimator {font-family: monospace;background-color: #f0f8ff;border: 1px dotted black;border-radius: 0.25em;box-sizing: border-box;margin-bottom: 0.5em;}#sk-container-id-3 div.sk-estimator:hover {background-color: #d4ebff;}#sk-container-id-3 div.sk-parallel-item::after {content: \"\";width: 100%;border-bottom: 1px solid gray;flex-grow: 1;}#sk-container-id-3 div.sk-label:hover label.sk-toggleable__label {background-color: #d4ebff;}#sk-container-id-3 div.sk-serial::before {content: \"\";position: absolute;border-left: 1px solid gray;box-sizing: border-box;top: 0;bottom: 0;left: 50%;z-index: 0;}#sk-container-id-3 div.sk-serial {display: flex;flex-direction: column;align-items: center;background-color: white;padding-right: 0.2em;padding-left: 0.2em;position: relative;}#sk-container-id-3 div.sk-item {position: relative;z-index: 1;}#sk-container-id-3 div.sk-parallel {display: flex;align-items: stretch;justify-content: center;background-color: white;position: relative;}#sk-container-id-3 div.sk-item::before, #sk-container-id-3 div.sk-parallel-item::before {content: \"\";position: absolute;border-left: 1px solid gray;box-sizing: border-box;top: 0;bottom: 0;left: 50%;z-index: -1;}#sk-container-id-3 div.sk-parallel-item {display: flex;flex-direction: column;z-index: 1;position: relative;background-color: white;}#sk-container-id-3 div.sk-parallel-item:first-child::after {align-self: flex-end;width: 50%;}#sk-container-id-3 div.sk-parallel-item:last-child::after {align-self: flex-start;width: 50%;}#sk-container-id-3 div.sk-parallel-item:only-child::after {width: 0;}#sk-container-id-3 div.sk-dashed-wrapped {border: 1px dashed gray;margin: 0 0.4em 0.5em 0.4em;box-sizing: border-box;padding-bottom: 0.4em;background-color: white;}#sk-container-id-3 div.sk-label label {font-family: monospace;font-weight: bold;display: inline-block;line-height: 1.2em;}#sk-container-id-3 div.sk-label-container {text-align: center;}#sk-container-id-3 div.sk-container {/* jupyter's `normalize.less` sets `[hidden] { display: none; }` but bootstrap.min.css set `[hidden] { display: none !important; }` so we also need the `!important` here to be able to override the default hidden behavior on the sphinx rendered scikit-learn.org. See: https://github.com/scikit-learn/scikit-learn/issues/21755 */display: inline-block !important;position: relative;}#sk-container-id-3 div.sk-text-repr-fallback {display: none;}</style><div id=\"sk-container-id-3\" class=\"sk-top-container\"><div class=\"sk-text-repr-fallback\"><pre>LinearRegression()</pre><b>In a Jupyter environment, please rerun this cell to show the HTML representation or trust the notebook. <br />On GitHub, the HTML representation is unable to render, please try loading this page with nbviewer.org.</b></div><div class=\"sk-container\" hidden><div class=\"sk-item\"><div class=\"sk-estimator sk-toggleable\"><input class=\"sk-toggleable__control sk-hidden--visually\" id=\"sk-estimator-id-3\" type=\"checkbox\" checked><label for=\"sk-estimator-id-3\" class=\"sk-toggleable__label sk-toggleable__label-arrow\">LinearRegression</label><div class=\"sk-toggleable__content\"><pre>LinearRegression()</pre></div></div></div></div></div>"
      ],
      "text/plain": [
       "LinearRegression()"
      ]
     },
     "execution_count": 52,
     "metadata": {},
     "output_type": "execute_result"
    }
   ],
   "source": [
    "# train the model on the training set\n",
    "ml = LinearRegression()\n",
    "ml.fit(X_train_lr_encoded, y_train)"
   ]
  },
  {
   "cell_type": "code",
   "execution_count": 53,
   "id": "5b6812ce",
   "metadata": {},
   "outputs": [],
   "source": [
    "# apply model to validation set\n",
    "val_pred = ml.predict(X_val_lr_encoded)"
   ]
  },
  {
   "cell_type": "code",
   "execution_count": 55,
   "id": "1e00fbfe",
   "metadata": {},
   "outputs": [
    {
     "data": {
      "text/plain": [
       "0.9944141069489634"
      ]
     },
     "execution_count": 55,
     "metadata": {},
     "output_type": "execute_result"
    }
   ],
   "source": [
    "# evaluate the model with R2 Score on validation set\n",
    "r2_score(y_val, val_pred)"
   ]
  },
  {
   "cell_type": "code",
   "execution_count": 56,
   "id": "13510de4",
   "metadata": {},
   "outputs": [
    {
     "data": {
      "text/plain": [
       "Text(0.5, 1.0, 'Actual vs Predicted')"
      ]
     },
     "execution_count": 56,
     "metadata": {},
     "output_type": "execute_result"
    },
    {
     "data": {
      "image/png": "[encoded data removed]",
      "text/plain": [
       "<Figure size 1500x1500 with 1 Axes>"
      ]
     },
     "metadata": {},
     "output_type": "display_data"
    }
   ],
   "source": [
    "# plot the results\n",
    "plt.figure(figsize=(15,15))\n",
    "plt.scatter(y_val, val_pred)\n",
    "plt.xlabel('Actual')\n",
    "plt.ylabel('Predicted')\n",
    "plt.title('Actual vs Predicted')"
   ]
  },
  {
   "cell_type": "code",
   "execution_count": 57,
   "id": "6545bddd",
   "metadata": {},
   "outputs": [
    {
     "data": {
      "text/html": [
       "<div>\n",
       "<style scoped>\n",
       "    .dataframe tbody tr th:only-of-type {\n",
       "        vertical-align: middle;\n",
       "    }\n",
       "\n",
       "    .dataframe tbody tr th {\n",
       "        vertical-align: top;\n",
       "    }\n",
       "\n",
       "    .dataframe thead th {\n",
       "        text-align: right;\n",
       "    }\n",
       "</style>\n",
       "<table border=\"1\" class=\"dataframe\">\n",
       "  <thead>\n",
       "    <tr style=\"text-align: right;\">\n",
       "      <th></th>\n",
       "      <th>Actual Value</th>\n",
       "      <th>Predicted Value</th>\n",
       "      <th>Residual</th>\n",
       "    </tr>\n",
       "  </thead>\n",
       "  <tbody>\n",
       "    <tr>\n",
       "      <th>0</th>\n",
       "      <td>0.192460</td>\n",
       "      <td>0.191915</td>\n",
       "      <td>0.000545</td>\n",
       "    </tr>\n",
       "    <tr>\n",
       "      <th>1</th>\n",
       "      <td>0.164792</td>\n",
       "      <td>0.171018</td>\n",
       "      <td>-0.006226</td>\n",
       "    </tr>\n",
       "    <tr>\n",
       "      <th>2</th>\n",
       "      <td>0.220736</td>\n",
       "      <td>0.218201</td>\n",
       "      <td>0.002535</td>\n",
       "    </tr>\n",
       "    <tr>\n",
       "      <th>3</th>\n",
       "      <td>0.269383</td>\n",
       "      <td>0.272941</td>\n",
       "      <td>-0.003559</td>\n",
       "    </tr>\n",
       "    <tr>\n",
       "      <th>4</th>\n",
       "      <td>0.134387</td>\n",
       "      <td>0.138198</td>\n",
       "      <td>-0.003810</td>\n",
       "    </tr>\n",
       "    <tr>\n",
       "      <th>5</th>\n",
       "      <td>0.302524</td>\n",
       "      <td>0.291707</td>\n",
       "      <td>0.010817</td>\n",
       "    </tr>\n",
       "    <tr>\n",
       "      <th>6</th>\n",
       "      <td>0.162359</td>\n",
       "      <td>0.160922</td>\n",
       "      <td>0.001437</td>\n",
       "    </tr>\n",
       "    <tr>\n",
       "      <th>7</th>\n",
       "      <td>0.187595</td>\n",
       "      <td>0.196945</td>\n",
       "      <td>-0.009350</td>\n",
       "    </tr>\n",
       "    <tr>\n",
       "      <th>8</th>\n",
       "      <td>0.332320</td>\n",
       "      <td>0.339783</td>\n",
       "      <td>-0.007463</td>\n",
       "    </tr>\n",
       "    <tr>\n",
       "      <th>9</th>\n",
       "      <td>0.254181</td>\n",
       "      <td>0.246389</td>\n",
       "      <td>0.007791</td>\n",
       "    </tr>\n",
       "    <tr>\n",
       "      <th>10</th>\n",
       "      <td>0.240195</td>\n",
       "      <td>0.239150</td>\n",
       "      <td>0.001045</td>\n",
       "    </tr>\n",
       "    <tr>\n",
       "      <th>11</th>\n",
       "      <td>0.413196</td>\n",
       "      <td>0.410857</td>\n",
       "      <td>0.002339</td>\n",
       "    </tr>\n",
       "    <tr>\n",
       "      <th>12</th>\n",
       "      <td>0.257829</td>\n",
       "      <td>0.264035</td>\n",
       "      <td>-0.006206</td>\n",
       "    </tr>\n",
       "    <tr>\n",
       "      <th>13</th>\n",
       "      <td>0.224080</td>\n",
       "      <td>0.212865</td>\n",
       "      <td>0.011216</td>\n",
       "    </tr>\n",
       "    <tr>\n",
       "      <th>14</th>\n",
       "      <td>0.210398</td>\n",
       "      <td>0.220298</td>\n",
       "      <td>-0.009900</td>\n",
       "    </tr>\n",
       "    <tr>\n",
       "      <th>15</th>\n",
       "      <td>0.298875</td>\n",
       "      <td>0.297628</td>\n",
       "      <td>0.001247</td>\n",
       "    </tr>\n",
       "    <tr>\n",
       "      <th>16</th>\n",
       "      <td>0.553056</td>\n",
       "      <td>0.557875</td>\n",
       "      <td>-0.004820</td>\n",
       "    </tr>\n",
       "    <tr>\n",
       "      <th>17</th>\n",
       "      <td>0.226817</td>\n",
       "      <td>0.231033</td>\n",
       "      <td>-0.004216</td>\n",
       "    </tr>\n",
       "    <tr>\n",
       "      <th>18</th>\n",
       "      <td>0.338401</td>\n",
       "      <td>0.342084</td>\n",
       "      <td>-0.003683</td>\n",
       "    </tr>\n",
       "    <tr>\n",
       "      <th>19</th>\n",
       "      <td>0.253268</td>\n",
       "      <td>0.242697</td>\n",
       "      <td>0.010572</td>\n",
       "    </tr>\n",
       "  </tbody>\n",
       "</table>\n",
       "</div>"
      ],
      "text/plain": [
       "    Actual Value  Predicted Value  Residual\n",
       "0       0.192460         0.191915  0.000545\n",
       "1       0.164792         0.171018 -0.006226\n",
       "2       0.220736         0.218201  0.002535\n",
       "3       0.269383         0.272941 -0.003559\n",
       "4       0.134387         0.138198 -0.003810\n",
       "5       0.302524         0.291707  0.010817\n",
       "6       0.162359         0.160922  0.001437\n",
       "7       0.187595         0.196945 -0.009350\n",
       "8       0.332320         0.339783 -0.007463\n",
       "9       0.254181         0.246389  0.007791\n",
       "10      0.240195         0.239150  0.001045\n",
       "11      0.413196         0.410857  0.002339\n",
       "12      0.257829         0.264035 -0.006206\n",
       "13      0.224080         0.212865  0.011216\n",
       "14      0.210398         0.220298 -0.009900\n",
       "15      0.298875         0.297628  0.001247\n",
       "16      0.553056         0.557875 -0.004820\n",
       "17      0.226817         0.231033 -0.004216\n",
       "18      0.338401         0.342084 -0.003683\n",
       "19      0.253268         0.242697  0.010572"
      ]
     },
     "metadata": {},
     "output_type": "display_data"
    }
   ],
   "source": [
    "# predicted values\n",
    "pred_val_df = pd.DataFrame({'Actual Value': y_val.ravel(), 'Predicted Value': val_pred.ravel(), 'Residual':y_val.ravel()-val_pred.ravel()})\n",
    "display(pred_val_df[0:20])"
   ]
  },
  {
   "cell_type": "markdown",
   "id": "efc14e01",
   "metadata": {},
   "source": [
    "#### Random Forest"
   ]
  },
  {
   "cell_type": "code",
   "execution_count": 59,
   "id": "f37e45ab",
   "metadata": {},
   "outputs": [
    {
     "name": "stderr",
     "output_type": "stream",
     "text": [
      "/var/folders/bj/4_046k_n1259zwtr2hcbxcbw0000gn/T/ipykernel_56935/262345856.py:2: DataConversionWarning: A column-vector y was passed when a 1d array was expected. Please change the shape of y to (n_samples,), for example using ravel().\n",
      "  rf.fit(X_train_lr_encoded, y_train)\n"
     ]
    },
    {
     "ename": "ValueError",
     "evalue": "Unknown label type: 'continuous'",
     "output_type": "error",
     "traceback": [
      "\u001b[0;31m---------------------------------------------------------------------------\u001b[0m",
      "\u001b[0;31mValueError\u001b[0m                                Traceback (most recent call last)",
      "Cell \u001b[0;32mIn[59], line 2\u001b[0m\n\u001b[1;32m      1\u001b[0m rf \u001b[38;5;241m=\u001b[39m RandomForestClassifier(n_estimators \u001b[38;5;241m=\u001b[39m \u001b[38;5;241m500\u001b[39m, random_state \u001b[38;5;241m=\u001b[39m \u001b[38;5;241m10\u001b[39m)\n\u001b[0;32m----> 2\u001b[0m rf\u001b[38;5;241m.\u001b[39mfit(X_train_lr_encoded, y_train)\n",
      "File \u001b[0;32m~/anaconda3/lib/python3.11/site-packages/sklearn/ensemble/_forest.py:385\u001b[0m, in \u001b[0;36mBaseForest.fit\u001b[0;34m(self, X, y, sample_weight)\u001b[0m\n\u001b[1;32m    378\u001b[0m         \u001b[38;5;28;01mraise\u001b[39;00m \u001b[38;5;167;01mValueError\u001b[39;00m(\n\u001b[1;32m    379\u001b[0m             \u001b[38;5;124m\"\u001b[39m\u001b[38;5;124mSum of y is not strictly positive which \u001b[39m\u001b[38;5;124m\"\u001b[39m\n\u001b[1;32m    380\u001b[0m             \u001b[38;5;124m\"\u001b[39m\u001b[38;5;124mis necessary for Poisson regression.\u001b[39m\u001b[38;5;124m\"\u001b[39m\n\u001b[1;32m    381\u001b[0m         )\n\u001b[1;32m    383\u001b[0m \u001b[38;5;28mself\u001b[39m\u001b[38;5;241m.\u001b[39mn_outputs_ \u001b[38;5;241m=\u001b[39m y\u001b[38;5;241m.\u001b[39mshape[\u001b[38;5;241m1\u001b[39m]\n\u001b[0;32m--> 385\u001b[0m y, expanded_class_weight \u001b[38;5;241m=\u001b[39m \u001b[38;5;28mself\u001b[39m\u001b[38;5;241m.\u001b[39m_validate_y_class_weight(y)\n\u001b[1;32m    387\u001b[0m \u001b[38;5;28;01mif\u001b[39;00m \u001b[38;5;28mgetattr\u001b[39m(y, \u001b[38;5;124m\"\u001b[39m\u001b[38;5;124mdtype\u001b[39m\u001b[38;5;124m\"\u001b[39m, \u001b[38;5;28;01mNone\u001b[39;00m) \u001b[38;5;241m!=\u001b[39m DOUBLE \u001b[38;5;129;01mor\u001b[39;00m \u001b[38;5;129;01mnot\u001b[39;00m y\u001b[38;5;241m.\u001b[39mflags\u001b[38;5;241m.\u001b[39mcontiguous:\n\u001b[1;32m    388\u001b[0m     y \u001b[38;5;241m=\u001b[39m np\u001b[38;5;241m.\u001b[39mascontiguousarray(y, dtype\u001b[38;5;241m=\u001b[39mDOUBLE)\n",
      "File \u001b[0;32m~/anaconda3/lib/python3.11/site-packages/sklearn/ensemble/_forest.py:746\u001b[0m, in \u001b[0;36mForestClassifier._validate_y_class_weight\u001b[0;34m(self, y)\u001b[0m\n\u001b[1;32m    745\u001b[0m \u001b[38;5;28;01mdef\u001b[39;00m \u001b[38;5;21m_validate_y_class_weight\u001b[39m(\u001b[38;5;28mself\u001b[39m, y):\n\u001b[0;32m--> 746\u001b[0m     check_classification_targets(y)\n\u001b[1;32m    748\u001b[0m     y \u001b[38;5;241m=\u001b[39m np\u001b[38;5;241m.\u001b[39mcopy(y)\n\u001b[1;32m    749\u001b[0m     expanded_class_weight \u001b[38;5;241m=\u001b[39m \u001b[38;5;28;01mNone\u001b[39;00m\n",
      "File \u001b[0;32m~/anaconda3/lib/python3.11/site-packages/sklearn/utils/multiclass.py:218\u001b[0m, in \u001b[0;36mcheck_classification_targets\u001b[0;34m(y)\u001b[0m\n\u001b[1;32m    210\u001b[0m y_type \u001b[38;5;241m=\u001b[39m type_of_target(y, input_name\u001b[38;5;241m=\u001b[39m\u001b[38;5;124m\"\u001b[39m\u001b[38;5;124my\u001b[39m\u001b[38;5;124m\"\u001b[39m)\n\u001b[1;32m    211\u001b[0m \u001b[38;5;28;01mif\u001b[39;00m y_type \u001b[38;5;129;01mnot\u001b[39;00m \u001b[38;5;129;01min\u001b[39;00m [\n\u001b[1;32m    212\u001b[0m     \u001b[38;5;124m\"\u001b[39m\u001b[38;5;124mbinary\u001b[39m\u001b[38;5;124m\"\u001b[39m,\n\u001b[1;32m    213\u001b[0m     \u001b[38;5;124m\"\u001b[39m\u001b[38;5;124mmulticlass\u001b[39m\u001b[38;5;124m\"\u001b[39m,\n\u001b[0;32m   (...)\u001b[0m\n\u001b[1;32m    216\u001b[0m     \u001b[38;5;124m\"\u001b[39m\u001b[38;5;124mmultilabel-sequences\u001b[39m\u001b[38;5;124m\"\u001b[39m,\n\u001b[1;32m    217\u001b[0m ]:\n\u001b[0;32m--> 218\u001b[0m     \u001b[38;5;28;01mraise\u001b[39;00m \u001b[38;5;167;01mValueError\u001b[39;00m(\u001b[38;5;124m\"\u001b[39m\u001b[38;5;124mUnknown label type: \u001b[39m\u001b[38;5;132;01m%r\u001b[39;00m\u001b[38;5;124m\"\u001b[39m \u001b[38;5;241m%\u001b[39m y_type)\n",
      "\u001b[0;31mValueError\u001b[0m: Unknown label type: 'continuous'"
     ]
    }
   ],
   "source": [
    "rf = RandomForestClassifier(n_estimators = 500, random_state = 10)\n",
    "rf.fit(X_train_lr_encoded, y_train)"
   ]
  },
  {
   "cell_type": "code",
   "execution_count": null,
   "id": "089c522e",
   "metadata": {},
   "outputs": [],
   "source": []
  }
 ],
 "metadata": {
  "kernelspec": {
   "display_name": "Python 3 (ipykernel)",
   "language": "python",
   "name": "python3"
  },
  "language_info": {
   "codemirror_mode": {
    "name": "ipython",
    "version": 3
   },
   "file_extension": ".py",
   "mimetype": "text/x-python",
   "name": "python",
   "nbconvert_exporter": "python",
   "pygments_lexer": "ipython3",
   "version": "3.11.4"
  }
 },
 "nbformat": 4,
 "nbformat_minor": 5
}
